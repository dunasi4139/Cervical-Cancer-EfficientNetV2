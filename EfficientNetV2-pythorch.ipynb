{
  "cells": [
    {
      "cell_type": "markdown",
      "metadata": {
        "id": "6bJWdkHNTIVd"
      },
      "source": [
        "## Import Library\n",
        "\n",
        "---"
      ]
    },
    {
      "cell_type": "code",
      "execution_count": null,
      "metadata": {
        "colab": {
          "base_uri": "https://localhost:8080/"
        },
        "id": "b95KYY-FxpBe",
        "outputId": "935be977-6d31-43b2-d706-ca340da25fbf"
      },
      "outputs": [
        {
          "name": "stdout",
          "output_type": "stream",
          "text": [
            "Collecting timm\n",
            "  Downloading timm-0.9.2-py3-none-any.whl (2.2 MB)\n",
            "\u001b[?25l     \u001b[90m━━━━━━━━━━━━━━━━━━━━━━━━━━━━━━━━━━━━━━━━\u001b[0m \u001b[32m0.0/2.2 MB\u001b[0m \u001b[31m?\u001b[0m eta \u001b[36m-:--:--\u001b[0m\r\u001b[2K     \u001b[91m━━━━━━━━━━━━━━━━━━━━━━━━━━━━━━━━━━━━━━━\u001b[0m\u001b[91m╸\u001b[0m \u001b[32m2.2/2.2 MB\u001b[0m \u001b[31m88.2 MB/s\u001b[0m eta \u001b[36m0:00:01\u001b[0m\r\u001b[2K     \u001b[90m━━━━━━━━━━━━━━━━━━━━━━━━━━━━━━━━━━━━━━━━\u001b[0m \u001b[32m2.2/2.2 MB\u001b[0m \u001b[31m48.9 MB/s\u001b[0m eta \u001b[36m0:00:00\u001b[0m\n",
            "\u001b[?25hRequirement already satisfied: torch>=1.7 in /usr/local/lib/python3.10/dist-packages (from timm) (2.0.1+cu118)\n",
            "Requirement already satisfied: torchvision in /usr/local/lib/python3.10/dist-packages (from timm) (0.15.2+cu118)\n",
            "Requirement already satisfied: pyyaml in /usr/local/lib/python3.10/dist-packages (from timm) (6.0)\n",
            "Collecting huggingface-hub (from timm)\n",
            "  Downloading huggingface_hub-0.15.1-py3-none-any.whl (236 kB)\n",
            "\u001b[2K     \u001b[90m━━━━━━━━━━━━━━━━━━━━━━━━━━━━━━━━━━━━━━\u001b[0m \u001b[32m236.8/236.8 kB\u001b[0m \u001b[31m31.3 MB/s\u001b[0m eta \u001b[36m0:00:00\u001b[0m\n",
            "\u001b[?25hCollecting safetensors (from timm)\n",
            "  Downloading safetensors-0.3.1-cp310-cp310-manylinux_2_17_x86_64.manylinux2014_x86_64.whl (1.3 MB)\n",
            "\u001b[2K     \u001b[90m━━━━━━━━━━━━━━━━━━━━━━━━━━━━━━━━━━━━━━━━\u001b[0m \u001b[32m1.3/1.3 MB\u001b[0m \u001b[31m76.4 MB/s\u001b[0m eta \u001b[36m0:00:00\u001b[0m\n",
            "\u001b[?25hRequirement already satisfied: filelock in /usr/local/lib/python3.10/dist-packages (from torch>=1.7->timm) (3.12.2)\n",
            "Requirement already satisfied: typing-extensions in /usr/local/lib/python3.10/dist-packages (from torch>=1.7->timm) (4.6.3)\n",
            "Requirement already satisfied: sympy in /usr/local/lib/python3.10/dist-packages (from torch>=1.7->timm) (1.11.1)\n",
            "Requirement already satisfied: networkx in /usr/local/lib/python3.10/dist-packages (from torch>=1.7->timm) (3.1)\n",
            "Requirement already satisfied: jinja2 in /usr/local/lib/python3.10/dist-packages (from torch>=1.7->timm) (3.1.2)\n",
            "Requirement already satisfied: triton==2.0.0 in /usr/local/lib/python3.10/dist-packages (from torch>=1.7->timm) (2.0.0)\n",
            "Requirement already satisfied: cmake in /usr/local/lib/python3.10/dist-packages (from triton==2.0.0->torch>=1.7->timm) (3.25.2)\n",
            "Requirement already satisfied: lit in /usr/local/lib/python3.10/dist-packages (from triton==2.0.0->torch>=1.7->timm) (16.0.6)\n",
            "Requirement already satisfied: fsspec in /usr/local/lib/python3.10/dist-packages (from huggingface-hub->timm) (2023.6.0)\n",
            "Requirement already satisfied: requests in /usr/local/lib/python3.10/dist-packages (from huggingface-hub->timm) (2.27.1)\n",
            "Requirement already satisfied: tqdm>=4.42.1 in /usr/local/lib/python3.10/dist-packages (from huggingface-hub->timm) (4.65.0)\n",
            "Requirement already satisfied: packaging>=20.9 in /usr/local/lib/python3.10/dist-packages (from huggingface-hub->timm) (23.1)\n",
            "Requirement already satisfied: numpy in /usr/local/lib/python3.10/dist-packages (from torchvision->timm) (1.22.4)\n",
            "Requirement already satisfied: pillow!=8.3.*,>=5.3.0 in /usr/local/lib/python3.10/dist-packages (from torchvision->timm) (8.4.0)\n",
            "Requirement already satisfied: MarkupSafe>=2.0 in /usr/local/lib/python3.10/dist-packages (from jinja2->torch>=1.7->timm) (2.1.3)\n",
            "Requirement already satisfied: urllib3<1.27,>=1.21.1 in /usr/local/lib/python3.10/dist-packages (from requests->huggingface-hub->timm) (1.26.16)\n",
            "Requirement already satisfied: certifi>=2017.4.17 in /usr/local/lib/python3.10/dist-packages (from requests->huggingface-hub->timm) (2023.5.7)\n",
            "Requirement already satisfied: charset-normalizer~=2.0.0 in /usr/local/lib/python3.10/dist-packages (from requests->huggingface-hub->timm) (2.0.12)\n",
            "Requirement already satisfied: idna<4,>=2.5 in /usr/local/lib/python3.10/dist-packages (from requests->huggingface-hub->timm) (3.4)\n",
            "Requirement already satisfied: mpmath>=0.19 in /usr/local/lib/python3.10/dist-packages (from sympy->torch>=1.7->timm) (1.3.0)\n",
            "Installing collected packages: safetensors, huggingface-hub, timm\n",
            "Successfully installed huggingface-hub-0.15.1 safetensors-0.3.1 timm-0.9.2\n"
          ]
        }
      ],
      "source": [
        "!pip install timm"
      ]
    },
    {
      "cell_type": "code",
      "execution_count": null,
      "metadata": {
        "id": "1UEIZOIIYx2m"
      },
      "outputs": [],
      "source": [
        "import time\n",
        "import pandas as pd\n",
        "import numpy as np\n",
        "import matplotlib.pyplot as plt\n",
        "import os\n",
        "import math\n",
        "import torch\n",
        "import torchvision\n",
        "import timm\n",
        "import copy\n",
        "from PIL import Image\n",
        "from torchvision.datasets import ImageFolder\n",
        "from torchvision import datasets, transforms\n",
        "from torch.nn import functional as F\n",
        "from torch.utils.data import DataLoader, sampler, random_split\n",
        "from torch import nn, optim\n",
        "from tqdm import tqdm\n",
        "from collections import defaultdict\n",
        "from sklearn.metrics import confusion_matrix, classification_report"
      ]
    },
    {
      "cell_type": "code",
      "execution_count": null,
      "metadata": {
        "id": "pupH5fzg-jen"
      },
      "outputs": [],
      "source": [
        "start = time.time()"
      ]
    },
    {
      "cell_type": "markdown",
      "metadata": {
        "id": "9P8t7zYlDk0_"
      },
      "source": [
        "## Dataset Cervical Cancer"
      ]
    },
    {
      "cell_type": "code",
      "execution_count": null,
      "metadata": {
        "colab": {
          "base_uri": "https://localhost:8080/"
        },
        "id": "XO4b4KJKCqIp",
        "outputId": "601f02ec-0b54-4bb5-b44e-dcf0d2f89755"
      },
      "outputs": [
        {
          "name": "stdout",
          "output_type": "stream",
          "text": [
            "Cloning into 'Cervical-Cancer-EfficientNetV2'...\n",
            "remote: Enumerating objects: 5018, done.\u001b[K\n",
            "remote: Counting objects: 100% (10/10), done.\u001b[K\n",
            "remote: Compressing objects: 100% (8/8), done.\u001b[K\n",
            "remote: Total 5018 (delta 1), reused 10 (delta 1), pack-reused 5008\u001b[K\n",
            "Receiving objects: 100% (5018/5018), 223.52 MiB | 16.55 MiB/s, done.\n",
            "Resolving deltas: 100% (1/1), done.\n",
            "Updating files: 100% (5004/5004), done.\n"
          ]
        }
      ],
      "source": [
        "!git clone https://github.com/dunasi4139/Cervical-Cancer-EfficientNetV2.git"
      ]
    },
    {
      "cell_type": "code",
      "execution_count": null,
      "metadata": {
        "id": "gPiGrohqsHu8"
      },
      "outputs": [],
      "source": [
        "base_dir = '/content/Cervical-Cancer-EfficientNetV2/dataset'\n",
        "data_dir = os.path.join(base_dir)"
      ]
    },
    {
      "cell_type": "code",
      "execution_count": null,
      "metadata": {
        "colab": {
          "base_uri": "https://localhost:8080/"
        },
        "id": "ANz1zWmB80TJ",
        "outputId": "70e5431e-49b9-428b-b8d5-29a8c98a1a43"
      },
      "outputs": [
        {
          "data": {
            "text/plain": [
              "['cervix_dyk', 'cervix_pab', 'cervix_mep', 'cervix_koc', 'cervix_sfi']"
            ]
          },
          "execution_count": 6,
          "metadata": {},
          "output_type": "execute_result"
        }
      ],
      "source": [
        "os.listdir(data_dir)"
      ]
    },
    {
      "cell_type": "code",
      "execution_count": null,
      "metadata": {
        "id": "51669144"
      },
      "outputs": [],
      "source": [
        "def get_data_loaders(data_dir, batch_size):\n",
        "    transform = transforms.Compose([\n",
        "      transforms.RandomHorizontalFlip(),\n",
        "      transforms.RandomVerticalFlip(),\n",
        "      transforms.Resize(256),\n",
        "      transforms.CenterCrop(224),\n",
        "      transforms.ToTensor(),\n",
        "      transforms.Normalize((0.488), (0.2172))\n",
        "    ])\n",
        "    dataset = datasets.ImageFolder(data_dir, transform=transform)\n",
        "    train_data_len = int(len(dataset)*0.6)\n",
        "    valid_data_len = int((len(dataset) - train_data_len)/2)\n",
        "    test_data_len = int(len(dataset) - train_data_len - valid_data_len)\n",
        "    train_data, val_data, test_data = random_split(dataset, [train_data_len, valid_data_len, test_data_len])\n",
        "    train_loader = DataLoader(train_data, batch_size=batch_size, shuffle=True, num_workers=4)\n",
        "    val_loader = DataLoader(val_data, batch_size=batch_size, shuffle=True, num_workers=4)\n",
        "    test_loader = DataLoader(test_data, batch_size=batch_size, shuffle=True, num_workers=4)\n",
        "\n",
        "    return (train_loader, val_loader, test_loader, train_data_len, valid_data_len, test_data_len, dataset)"
      ]
    },
    {
      "cell_type": "code",
      "execution_count": null,
      "metadata": {
        "id": "acb68a06"
      },
      "outputs": [],
      "source": [
        "def get_classes(data_dir):\n",
        "    dataset = datasets.ImageFolder(data_dir)\n",
        "    return dataset.classes"
      ]
    },
    {
      "cell_type": "code",
      "execution_count": null,
      "metadata": {
        "colab": {
          "base_uri": "https://localhost:8080/"
        },
        "id": "d18b10fd",
        "outputId": "4529ca0b-3bab-46a9-f105-6dfed2fe9b2a"
      },
      "outputs": [
        {
          "name": "stderr",
          "output_type": "stream",
          "text": [
            "/usr/local/lib/python3.10/dist-packages/torch/utils/data/dataloader.py:560: UserWarning: This DataLoader will create 4 worker processes in total. Our suggested max number of worker in current system is 2, which is smaller than what this DataLoader is going to create. Please be aware that excessive worker creation might get DataLoader running slow or even freeze, lower the worker number to avoid potential slowness/freeze if necessary.\n",
            "  warnings.warn(_create_warning_msg(\n"
          ]
        }
      ],
      "source": [
        "(train_loader, val_loader, test_loader, train_data_len, valid_data_len, test_data_len, dataset) = get_data_loaders(data_dir, 64)\n",
        "classes = get_classes(data_dir)"
      ]
    },
    {
      "cell_type": "code",
      "execution_count": null,
      "metadata": {
        "id": "e11bac7f"
      },
      "outputs": [],
      "source": [
        "my_dataloaders = {\n",
        "    \"train\":train_loader,\n",
        "    \"val\": val_loader\n",
        "}\n",
        "my_dataset_sizes = {\n",
        "    \"train\":train_data_len,\n",
        "    \"val\": valid_data_len\n",
        "}"
      ]
    },
    {
      "cell_type": "code",
      "execution_count": null,
      "metadata": {
        "colab": {
          "base_uri": "https://localhost:8080/"
        },
        "id": "7ea4fe45",
        "outputId": "9df0072c-4019-41f9-ce32-5eb42a285b81"
      },
      "outputs": [
        {
          "name": "stdout",
          "output_type": "stream",
          "text": [
            "47\n",
            "16\n",
            "16\n",
            "3000 1000 1000\n"
          ]
        }
      ],
      "source": [
        "print(len(train_loader))\n",
        "print(len(val_loader))\n",
        "print(len(test_loader))\n",
        "print(train_data_len, test_data_len, valid_data_len)"
      ]
    },
    {
      "cell_type": "code",
      "execution_count": null,
      "metadata": {
        "id": "c35e1da9"
      },
      "outputs": [],
      "source": [
        "torch.backends.cudnn.benchmark = True"
      ]
    },
    {
      "cell_type": "markdown",
      "metadata": {
        "id": "tlf-p0WsTlHK"
      },
      "source": [
        "## Perancangan Model Arsitektur EfficientNetV2"
      ]
    },
    {
      "cell_type": "code",
      "execution_count": null,
      "metadata": {
        "id": "c81bbec0"
      },
      "outputs": [],
      "source": [
        "KONFIGURASI_PARAMS = {\n",
        "    \"b0\": {\n",
        "        \"widths\": [32, 16, 32, 48, 96, 112, 192],\n",
        "        \"depths\": [1, 2, 2, 3, 5, 8],\n",
        "        \"strides\": [1, 2, 2, 2, 1, 2],\n",
        "        \"convs\": [0, 1, 1, 2, 3, 3],\n",
        "        \"output_conv_size\": 1280,\n",
        "        \"timm_weights\": \"tf_efficientnetv2_b0\",\n",
        "    },\n",
        "    \"b1\": {\n",
        "        \"widths\": [32, 16, 32, 48, 96, 112, 192],\n",
        "        \"depths\": [2, 3, 3, 4, 6, 9],\n",
        "        \"strides\": [1, 2, 2, 2, 1, 2],\n",
        "        \"convs\":[0, 1, 1, 2, 3, 3],\n",
        "        \"output_conv_size\": 1280,\n",
        "        \"timm_weights\":\"tf_efficientnetv2_b1\",\n",
        "    },\n",
        "    \"b2\": {\n",
        "        \"widths\": [32, 16, 32, 56, 104, 120, 208],\n",
        "        \"depths\": [2, 3, 3, 4, 6, 10],\n",
        "        \"strides\": [1, 2, 2, 2, 1, 2],\n",
        "        \"convs\": [0, 1, 1, 2, 3, 3],\n",
        "        \"output_conv_size\": 1408,\n",
        "        \"timm_weights\":\"tf_efficientnetv2_b2\",\n",
        "    },\n",
        "    \"small\": {\n",
        "        \"widths\": [24, 24, 48, 64, 128, 160, 256],\n",
        "        \"depths\": [2, 4, 4, 6, 9, 15],\n",
        "        \"strides\": [1, 2, 2, 2, 1, 2],\n",
        "        \"convs\": [0, 1, 1, 2, 3, 3],\n",
        "        \"output_conv_size\": 1280,\n",
        "        \"timm_weights\": \"tf_efficientnetv2_s\"\n",
        "    },\n",
        "    \"med\": {\n",
        "        \"widths\": [24, 24, 48, 80, 160, 176, 304, 512],\n",
        "        \"depths\": [3, 5, 5, 7, 14, 18, 5],\n",
        "        \"strides\": [1, 2, 2, 2, 1, 2, 1],\n",
        "        \"convs\": [0, 1, 1, 2, 3, 3, 3],\n",
        "        \"output_conv_size\": 1280,\n",
        "        \"timm_weights\":\"tf_efficientnetv2_m\",\n",
        "    },\n",
        "    \"large\": {\n",
        "        \"widths\": [32, 32, 64, 96, 192, 224, 384, 640],\n",
        "        \"depths\": [4, 7, 7, 10, 19, 25, 7],\n",
        "        \"strides\": [1, 2, 2, 2, 1, 2, 1],\n",
        "        \"convs\": [0, 1, 1, 2, 3, 3, 3],\n",
        "        \"output_conv_size\": 1280,\n",
        "        \"timm_weights\":\"tf_efficientnetv2_l\",\n",
        "    }\n",
        "}"
      ]
    },
    {
      "cell_type": "code",
      "execution_count": null,
      "metadata": {
        "id": "0ec8f6f8"
      },
      "outputs": [],
      "source": [
        "def conv_block(in_channels, out_channels, kernel_size=3,\n",
        "               stride=1, padding=1, groups=1,\n",
        "               bias=False, bn=True, act = True):\n",
        "    layers = [\n",
        "        nn.Conv2d(in_channels, out_channels, kernel_size, stride=stride,\n",
        "                  padding=padding, groups=groups, bias=bias),\n",
        "        nn.BatchNorm2d(out_channels) if bn else nn.Identity(),\n",
        "        nn.SiLU() if act else nn.Identity()\n",
        "    ]\n",
        "    return nn.Sequential(*layers)"
      ]
    },
    {
      "cell_type": "code",
      "execution_count": null,
      "metadata": {
        "id": "8bc7b68e"
      },
      "outputs": [],
      "source": [
        "class SEBlock(nn.Module):\n",
        "    def __init__(self, c, r=24):\n",
        "        super(SEBlock, self).__init__()\n",
        "        self.squeeze = nn.AdaptiveMaxPool2d(1)\n",
        "        self.excitation = nn.Sequential(\n",
        "            nn.Conv2d(c, c // r, kernel_size=1),\n",
        "            nn.SiLU(),\n",
        "            nn.Conv2d(c // r, c, kernel_size=1),\n",
        "            nn.Sigmoid()\n",
        "        )\n",
        "    def forward(self, x):\n",
        "        s = self.squeeze(x)\n",
        "        e = self.excitation(s)\n",
        "        return x * e"
      ]
    },
    {
      "cell_type": "code",
      "execution_count": null,
      "metadata": {
        "id": "61568492"
      },
      "outputs": [],
      "source": [
        "class MBConv(nn.Module):\n",
        "    def __init__(self, n_in, n_out, expansion, kernel_size=3, stride=1, r=24, dropout=0.1):\n",
        "        super(MBConv, self).__init__()\n",
        "        self.skip_connection = (n_in == n_out) and (stride == 1)\n",
        "\n",
        "        padding = (kernel_size-1)//2\n",
        "        expanded = expansion*n_in\n",
        "\n",
        "        self.expand_pw = nn.Identity() if expansion == 1 else conv_block(n_in, expanded, kernel_size=1, padding=0)\n",
        "        self.depthwise = conv_block(expanded, expanded, kernel_size=kernel_size,\n",
        "                                    stride=stride, padding=padding, groups=expanded)\n",
        "        self.se = SEBlock(expanded, r=4 * expansion)\n",
        "        self.reduce_pw = conv_block(expanded, n_out, kernel_size=1, padding=0, act=False)\n",
        "        self.dropout = nn.Dropout(dropout)\n",
        "\n",
        "    def forward(self, x):\n",
        "        residual = x\n",
        "        x = self.expand_pw(x)\n",
        "        x = self.depthwise(x)\n",
        "        x = self.se(x)\n",
        "        x = self.reduce_pw(x)\n",
        "        if self.skip_connection:\n",
        "            x = self.dropout(x)\n",
        "            x = x + residual\n",
        "        return x"
      ]
    },
    {
      "cell_type": "code",
      "execution_count": null,
      "metadata": {
        "id": "e4e679e0"
      },
      "outputs": [],
      "source": [
        "class FusedMBConv(nn.Module):\n",
        "    def __init__(self, n_in, n_out, expansion, kernel_size=3, stride=1, r=24, dropout=0.1):\n",
        "        super(FusedMBConv, self).__init__()\n",
        "        self.skip_connection = (n_in == n_out) and (stride == 1)\n",
        "        padding = (kernel_size-1)//2\n",
        "        expanded = expansion*n_in\n",
        "\n",
        "        self.expand_pw = conv_block(n_in, expanded, kernel_size=3, stride=stride, padding=1)\n",
        "        self.reduce_pw = conv_block(expanded, n_out, kernel_size=1, padding=0, act=False)\n",
        "\n",
        "        if expansion == 1:\n",
        "            self.reduce_pw = nn.Identity()\n",
        "            self.expand_pw = conv_block(n_in, n_out, kernel_size=3, stride=stride, padding=1)\n",
        "        self.dropout = nn.Dropout(dropout)\n",
        "\n",
        "    def forward(self, x):\n",
        "        residual = x\n",
        "        x = self.expand_pw(x)\n",
        "        x = self.reduce_pw(x)\n",
        "        if self.skip_connection:\n",
        "            x = self.dropout(x)\n",
        "            x = x + residual\n",
        "        return x"
      ]
    },
    {
      "cell_type": "code",
      "execution_count": null,
      "metadata": {
        "id": "bc30a85f"
      },
      "outputs": [],
      "source": [
        "def mbconv4(n_in, n_out, kernel_size=3, stride=1, r=24, dropout=0.1):\n",
        "    return MBConv(n_in, n_out, 4, kernel_size=kernel_size, stride=stride, r=r, dropout=dropout)\n",
        "def mbconv6(n_in, n_out, kernel_size=3, stride=1, r=24, dropout=0.1):\n",
        "    return MBConv(n_in, n_out, 6, kernel_size=kernel_size, stride=stride, r=r, dropout=dropout)\n",
        "def fused_mbconv1(n_in, n_out, kernel_size=3, stride=1, r=24, dropout=0.1):\n",
        "    return FusedMBConv(n_in, n_out, 1, kernel_size=kernel_size, stride=stride, r=r, dropout=dropout)\n",
        "def fused_mbconv4(n_in, n_out, kernel_size=3, stride=1, r=24, dropout=0.1):\n",
        "    return FusedMBConv(n_in, n_out, 4, kernel_size=kernel_size, stride=stride, r=r, dropout=dropout)\n",
        "layers_map = [fused_mbconv1, fused_mbconv4, mbconv4, mbconv6]"
      ]
    },
    {
      "cell_type": "code",
      "execution_count": null,
      "metadata": {
        "id": "4be38e59"
      },
      "outputs": [],
      "source": [
        "def create_stage(n_in, n_out, num_layers, layer=mbconv6,\n",
        "                 kernel_size=3, stride=1, r=24, ps=0):\n",
        "    layers = [layer(n_in, n_out, kernel_size=kernel_size,\n",
        "                       stride=stride, r=r, dropout=ps)]\n",
        "    layers += [layer(n_out, n_out, kernel_size=kernel_size,\n",
        "                        r=r, dropout=ps) for _ in range(num_layers-1)]\n",
        "    return nn.Sequential(*layers)"
      ]
    },
    {
      "cell_type": "code",
      "execution_count": null,
      "metadata": {
        "id": "5aea1e17"
      },
      "outputs": [],
      "source": [
        "class EfficientNetV2(nn.Module):\n",
        "    def __init__(self, cfg, n_classes=1000):\n",
        "        super(EfficientNetV2, self).__init__()\n",
        "        self.cfg = cfg\n",
        "        self.n_classes = n_classes\n",
        "        widths, depths, strides, convs = cfg['widths'],cfg['depths'],cfg['strides'],cfg['convs']\n",
        "        outconv_size = cfg['output_conv_size']\n",
        "\n",
        "        stages = [conv_block(3, widths[0], stride=2, padding=1)]\n",
        "        for i in range(len(depths)):\n",
        "            stages.append(create_stage(widths[i], widths[i + 1], depths[i], layer=layers_map[convs[i]],\n",
        "                        stride=strides[i], r=4 if i ==0 else 24, ps=0))\n",
        "\n",
        "        self.features = nn.Sequential(*stages)\n",
        "        self.pre = conv_block(widths[-1], outconv_size, kernel_size=1, padding=0)\n",
        "        self.pool_flatten = nn.Sequential(nn.AdaptiveAvgPool2d(1), nn.Flatten())\n",
        "        self.head = nn.Sequential(\n",
        "            nn.Linear(outconv_size, n_classes)\n",
        "        )\n",
        "\n",
        "    def forward(self, x):\n",
        "        x = self.features(x)\n",
        "        x = self.pre(x)\n",
        "        x = self.pool_flatten(x)\n",
        "        x = self.head(x)\n",
        "        return x"
      ]
    },
    {
      "cell_type": "code",
      "execution_count": null,
      "metadata": {
        "id": "4e5fee4e"
      },
      "outputs": [],
      "source": [
        "def efficientnetv2_b0(n_classes=1000):\n",
        "    return EfficientNetV2(KONFIGURASI_PARAMS['b0'], n_classes=n_classes)\n",
        "def efficientnetv2_b1(n_classes=1000):\n",
        "    return EfficientNetV2(KONFIGURASI_PARAMS['b1'], n_classes=n_classes)\n",
        "def efficientnetv2_b2(n_classes=1000):\n",
        "    return EfficientNetV2(KONFIGURASI_PARAMS['b2'], n_classes=n_classes)\n",
        "def efficientnetv2_small(n_classes=1000):\n",
        "    return EfficientNetV2(KONFIGURASI_PARAMS['small'], n_classes=n_classes)\n",
        "def efficientnetv2_med(n_classes=1000):\n",
        "    return EfficientNetV2(KONFIGURASI_PARAMS['med'], n_classes=n_classes)\n",
        "def efficientnetv2_large(n_classes=1000):\n",
        "    return EfficientNetV2(KONFIGURASI_PARAMS['large'], n_classes=n_classes)"
      ]
    },
    {
      "cell_type": "code",
      "execution_count": null,
      "metadata": {
        "id": "a260f3a5"
      },
      "outputs": [],
      "source": [
        "def load_timm_weights(model):\n",
        "    url = model.cfg.get(\"timm_weights\")\n",
        "    timm_model = timm.create_model(url, pretrained=True, num_classes=len(classes))\n",
        "    params = nn.utils.parameters_to_vector(timm_model.parameters())\n",
        "    nn.utils.vector_to_parameters(params, model.parameters())"
      ]
    },
    {
      "cell_type": "code",
      "execution_count": null,
      "metadata": {
        "colab": {
          "base_uri": "https://localhost:8080/",
          "referenced_widgets": [
            "9ae27081390e464f89529cf515158d9e",
            "0b594a22a0ab4cd8a62f2a31011a9d73",
            "fd88de2c75a94da7bdd99a7b738486a2",
            "40e81fad7a8c4023949dcbda2417c39d",
            "f2bc9544f8664b4bb955031e680ef072",
            "47e968abe39a4cb5a3fe428f45c38b68",
            "6e48613726f047b4a037b9e744336bd1",
            "5cb33852e9724f3aa0da8ae656e10278",
            "ff66a6afdcf948489c1a550a16d27517",
            "5bf12bd9bb704628b456ca7bfd3c7201",
            "44b1f6532a524512942b362fca63191f"
          ]
        },
        "id": "eb652ac4",
        "outputId": "bc02bbf5-3f82-463f-d3f3-0fc8f88f1bb9"
      },
      "outputs": [
        {
          "data": {
            "application/vnd.jupyter.widget-view+json": {
              "model_id": "9ae27081390e464f89529cf515158d9e",
              "version_major": 2,
              "version_minor": 0
            },
            "text/plain": [
              "Downloading model.safetensors:   0%|          | 0.00/86.5M [00:00<?, ?B/s]"
            ]
          },
          "metadata": {},
          "output_type": "display_data"
        }
      ],
      "source": [
        "model = efficientnetv2_med(n_classes=len(classes))\n",
        "load_timm_weights(model)"
      ]
    },
    {
      "cell_type": "code",
      "execution_count": null,
      "metadata": {
        "id": "a93c48dd"
      },
      "outputs": [],
      "source": [
        "# def print_size_of_model(model):\n",
        "#     torch.save(model.state_dict(), \"temp.p\")\n",
        "#     print('Size (MB):', os.path.getsize(\"temp.p\")/1e6)\n",
        "#     os.remove('temp.p')"
      ]
    },
    {
      "cell_type": "code",
      "execution_count": null,
      "metadata": {
        "id": "45e35efc"
      },
      "outputs": [],
      "source": [
        "# print_size_of_model(model)"
      ]
    },
    {
      "cell_type": "markdown",
      "metadata": {
        "id": "8PuQKv1JUCqM"
      },
      "source": [
        "## Training Data"
      ]
    },
    {
      "cell_type": "markdown",
      "metadata": {
        "id": "If0_igm7QSL_"
      },
      "source": [
        "### Function"
      ]
    },
    {
      "cell_type": "code",
      "execution_count": null,
      "metadata": {
        "colab": {
          "base_uri": "https://localhost:8080/"
        },
        "id": "c3b88ecc",
        "outputId": "35915f90-8c42-4db6-bffd-dfe87512e2cc"
      },
      "outputs": [
        {
          "data": {
            "text/plain": [
              "device(type='cuda', index=0)"
            ]
          },
          "execution_count": 26,
          "metadata": {},
          "output_type": "execute_result"
        }
      ],
      "source": [
        "my_device = torch.device(\"cuda:0\" if torch.cuda.is_available() else \"cpu\")\n",
        "my_model = model.to(my_device)\n",
        "my_device"
      ]
    },
    {
      "cell_type": "code",
      "execution_count": null,
      "metadata": {
        "id": "530c607d"
      },
      "outputs": [],
      "source": [
        "criterion = nn.CrossEntropyLoss()\n",
        "criterion = criterion.to(my_device)\n",
        "optimizer = optim.AdamW(model.head.parameters(), lr=0.001)"
      ]
    },
    {
      "cell_type": "code",
      "execution_count": null,
      "metadata": {
        "id": "577604e1"
      },
      "outputs": [],
      "source": [
        "my_training_history = {'akurasi':[],'loss':[]}\n",
        "my_validation_history = {'akurasi':[],'loss':[]}"
      ]
    },
    {
      "cell_type": "code",
      "execution_count": null,
      "metadata": {
        "id": "0cd2a1b3"
      },
      "outputs": [],
      "source": [
        "exp_lr_scheduler = optim.lr_scheduler.StepLR(optimizer, step_size=3, gamma=0.97)"
      ]
    },
    {
      "cell_type": "code",
      "execution_count": null,
      "metadata": {
        "id": "sD8TxjinbBYR"
      },
      "outputs": [],
      "source": [
        "def training_model(my_model, my_criterion, my_optimizer, my_scheduler, my_num_epochs=25):\n",
        "    best_model_wts = copy.deepcopy(my_model.state_dict())\n",
        "    akurasi_terbaik = 0.0\n",
        "    epoch_terbaik = 0\n",
        "    loss_terbaik = 0\n",
        "\n",
        "    for my_epoch in range(my_num_epochs):\n",
        "        print('Epoch {}/{}'.format(my_epoch+1, my_num_epochs))\n",
        "        print('_' * 50)\n",
        "\n",
        "        for my_phase in ['train', 'val']:\n",
        "            if my_phase == 'train':\n",
        "                my_model.train()\n",
        "            else:\n",
        "                my_model.eval()\n",
        "\n",
        "            running_loss = 0.0\n",
        "            running_corrects = 0\n",
        "\n",
        "            for my_inputs, my_labels in tqdm(my_dataloaders[my_phase]):\n",
        "                my_inputs = my_inputs.to(my_device)\n",
        "                my_labels = my_labels.to(my_device)\n",
        "\n",
        "                my_optimizer.zero_grad()\n",
        "\n",
        "                with torch.set_grad_enabled(my_phase == 'train'):\n",
        "                    my_outputs = my_model(my_inputs)\n",
        "                    _, my_preds = torch.max(my_outputs, 1)\n",
        "                    my_loss = my_criterion(my_outputs, my_labels)\n",
        "\n",
        "                    if my_phase == 'train':\n",
        "                        my_loss.backward()\n",
        "                        my_optimizer.step()\n",
        "\n",
        "                running_loss += my_loss.item() * my_inputs.size(0)\n",
        "                running_corrects += torch.sum(my_preds == my_labels.data)\n",
        "            if my_phase == 'train':\n",
        "                my_scheduler.step()\n",
        "\n",
        "            epoch_loss = running_loss / my_dataset_sizes[my_phase]\n",
        "            epoch_akurasi = running_corrects.double() / my_dataset_sizes[my_phase]\n",
        "\n",
        "            if my_phase == 'train':\n",
        "                my_training_history['akurasi'].append(epoch_akurasi)\n",
        "                my_training_history['loss'].append(epoch_loss)\n",
        "            elif my_phase == 'val':\n",
        "                my_validation_history['akurasi'].append(epoch_akurasi)\n",
        "                my_validation_history['loss'].append(epoch_loss)\n",
        "\n",
        "            print('{} Loss: {:.4f} Akurasi: {:.4f}'.format(\n",
        "                my_phase, epoch_loss, epoch_akurasi))\n",
        "\n",
        "            if my_phase == 'val' and epoch_akurasi > akurasi_terbaik:\n",
        "                akurasi_terbaik = epoch_akurasi\n",
        "                loss_terbaik = epoch_loss\n",
        "                epoch_terbaik = my_epoch+1\n",
        "                best_model_wts = copy.deepcopy(my_model.state_dict())\n",
        "\n",
        "        print()\n",
        "\n",
        "    print('Akurasi Terbaik: {:4f}'.format(akurasi_terbaik))\n",
        "    print('Loss Terbaik: {:4f}'.format(loss_terbaik))\n",
        "    print('Epoch Terbaik: {:4f}'.format(epoch_terbaik))\n",
        "\n",
        "    my_model.load_state_dict(best_model_wts)\n",
        "    return my_model, my_training_history, my_validation_history"
      ]
    },
    {
      "cell_type": "code",
      "execution_count": null,
      "metadata": {
        "id": "720ffb31"
      },
      "outputs": [],
      "source": [
        "for param in my_model.parameters():\n",
        "    param.requires_grad = True\n",
        "optimizer = optim.AdamW(my_model.parameters(), lr=0.00015)\n",
        "exp_lr_scheduler = optim.lr_scheduler.StepLR(optimizer, step_size=3, gamma=0.97)"
      ]
    },
    {
      "cell_type": "markdown",
      "metadata": {
        "id": "pPV1A35IQcnp"
      },
      "source": [
        "### Hasil"
      ]
    },
    {
      "cell_type": "code",
      "execution_count": null,
      "metadata": {
        "colab": {
          "background_save": true,
          "base_uri": "https://localhost:8080/"
        },
        "id": "705c6c59",
        "outputId": "d3082b83-e865-4368-af67-3a4ea76c4245"
      },
      "outputs": [
        {
          "name": "stdout",
          "output_type": "stream",
          "text": [
            "Epoch 1/30\n",
            "__________________________________________________\n"
          ]
        },
        {
          "name": "stderr",
          "output_type": "stream",
          "text": [
            "100%|██████████| 47/47 [00:50<00:00,  1.08s/it]\n"
          ]
        },
        {
          "name": "stdout",
          "output_type": "stream",
          "text": [
            "train Loss: 1.0407 Akurasi: 0.7587\n"
          ]
        },
        {
          "name": "stderr",
          "output_type": "stream",
          "text": [
            "100%|██████████| 16/16 [00:09<00:00,  1.68it/s]\n"
          ]
        },
        {
          "name": "stdout",
          "output_type": "stream",
          "text": [
            "val Loss: 3.3644 Akurasi: 0.5840\n",
            "\n",
            "Epoch 2/30\n",
            "__________________________________________________\n"
          ]
        },
        {
          "name": "stderr",
          "output_type": "stream",
          "text": [
            "100%|██████████| 47/47 [00:36<00:00,  1.29it/s]\n"
          ]
        },
        {
          "name": "stdout",
          "output_type": "stream",
          "text": [
            "train Loss: 0.1738 Akurasi: 0.9380\n"
          ]
        },
        {
          "name": "stderr",
          "output_type": "stream",
          "text": [
            "100%|██████████| 16/16 [00:08<00:00,  1.90it/s]\n"
          ]
        },
        {
          "name": "stdout",
          "output_type": "stream",
          "text": [
            "val Loss: 0.1692 Akurasi: 0.9420\n",
            "\n",
            "Epoch 3/30\n",
            "__________________________________________________\n"
          ]
        },
        {
          "name": "stderr",
          "output_type": "stream",
          "text": [
            "100%|██████████| 47/47 [00:35<00:00,  1.32it/s]\n"
          ]
        },
        {
          "name": "stdout",
          "output_type": "stream",
          "text": [
            "train Loss: 0.0887 Akurasi: 0.9697\n"
          ]
        },
        {
          "name": "stderr",
          "output_type": "stream",
          "text": [
            "100%|██████████| 16/16 [00:07<00:00,  2.09it/s]\n"
          ]
        },
        {
          "name": "stdout",
          "output_type": "stream",
          "text": [
            "val Loss: 0.1210 Akurasi: 0.9600\n",
            "\n",
            "Epoch 4/30\n",
            "__________________________________________________\n"
          ]
        },
        {
          "name": "stderr",
          "output_type": "stream",
          "text": [
            "100%|██████████| 47/47 [00:36<00:00,  1.27it/s]\n"
          ]
        },
        {
          "name": "stdout",
          "output_type": "stream",
          "text": [
            "train Loss: 0.0582 Akurasi: 0.9790\n"
          ]
        },
        {
          "name": "stderr",
          "output_type": "stream",
          "text": [
            "100%|██████████| 16/16 [00:09<00:00,  1.77it/s]\n"
          ]
        },
        {
          "name": "stdout",
          "output_type": "stream",
          "text": [
            "val Loss: 0.1441 Akurasi: 0.9450\n",
            "\n",
            "Epoch 5/30\n",
            "__________________________________________________\n"
          ]
        },
        {
          "name": "stderr",
          "output_type": "stream",
          "text": [
            "100%|██████████| 47/47 [00:35<00:00,  1.31it/s]\n"
          ]
        },
        {
          "name": "stdout",
          "output_type": "stream",
          "text": [
            "train Loss: 0.0341 Akurasi: 0.9907\n"
          ]
        },
        {
          "name": "stderr",
          "output_type": "stream",
          "text": [
            "100%|██████████| 16/16 [00:07<00:00,  2.05it/s]\n"
          ]
        },
        {
          "name": "stdout",
          "output_type": "stream",
          "text": [
            "val Loss: 0.0739 Akurasi: 0.9740\n",
            "\n",
            "Epoch 6/30\n",
            "__________________________________________________\n"
          ]
        },
        {
          "name": "stderr",
          "output_type": "stream",
          "text": [
            "100%|██████████| 47/47 [00:35<00:00,  1.31it/s]\n"
          ]
        },
        {
          "name": "stdout",
          "output_type": "stream",
          "text": [
            "train Loss: 0.0273 Akurasi: 0.9903\n"
          ]
        },
        {
          "name": "stderr",
          "output_type": "stream",
          "text": [
            "100%|██████████| 16/16 [00:08<00:00,  1.93it/s]\n"
          ]
        },
        {
          "name": "stdout",
          "output_type": "stream",
          "text": [
            "val Loss: 0.0405 Akurasi: 0.9820\n",
            "\n",
            "Epoch 7/30\n",
            "__________________________________________________\n"
          ]
        },
        {
          "name": "stderr",
          "output_type": "stream",
          "text": [
            "100%|██████████| 47/47 [00:36<00:00,  1.30it/s]\n"
          ]
        },
        {
          "name": "stdout",
          "output_type": "stream",
          "text": [
            "train Loss: 0.0182 Akurasi: 0.9937\n"
          ]
        },
        {
          "name": "stderr",
          "output_type": "stream",
          "text": [
            "100%|██████████| 16/16 [00:09<00:00,  1.76it/s]\n"
          ]
        },
        {
          "name": "stdout",
          "output_type": "stream",
          "text": [
            "val Loss: 0.0663 Akurasi: 0.9780\n",
            "\n",
            "Epoch 8/30\n",
            "__________________________________________________\n"
          ]
        },
        {
          "name": "stderr",
          "output_type": "stream",
          "text": [
            "100%|██████████| 47/47 [00:35<00:00,  1.31it/s]\n"
          ]
        },
        {
          "name": "stdout",
          "output_type": "stream",
          "text": [
            "train Loss: 0.0222 Akurasi: 0.9943\n"
          ]
        },
        {
          "name": "stderr",
          "output_type": "stream",
          "text": [
            "100%|██████████| 16/16 [00:07<00:00,  2.04it/s]\n"
          ]
        },
        {
          "name": "stdout",
          "output_type": "stream",
          "text": [
            "val Loss: 0.0296 Akurasi: 0.9920\n",
            "\n",
            "Epoch 9/30\n",
            "__________________________________________________\n"
          ]
        },
        {
          "name": "stderr",
          "output_type": "stream",
          "text": [
            "100%|██████████| 47/47 [00:36<00:00,  1.30it/s]\n"
          ]
        },
        {
          "name": "stdout",
          "output_type": "stream",
          "text": [
            "train Loss: 0.0087 Akurasi: 0.9970\n"
          ]
        },
        {
          "name": "stderr",
          "output_type": "stream",
          "text": [
            "100%|██████████| 16/16 [00:08<00:00,  1.87it/s]\n"
          ]
        },
        {
          "name": "stdout",
          "output_type": "stream",
          "text": [
            "val Loss: 0.0456 Akurasi: 0.9870\n",
            "\n",
            "Epoch 10/30\n",
            "__________________________________________________\n"
          ]
        },
        {
          "name": "stderr",
          "output_type": "stream",
          "text": [
            "100%|██████████| 47/47 [00:35<00:00,  1.31it/s]\n"
          ]
        },
        {
          "name": "stdout",
          "output_type": "stream",
          "text": [
            "train Loss: 0.0087 Akurasi: 0.9980\n"
          ]
        },
        {
          "name": "stderr",
          "output_type": "stream",
          "text": [
            "100%|██████████| 16/16 [00:08<00:00,  1.79it/s]\n"
          ]
        },
        {
          "name": "stdout",
          "output_type": "stream",
          "text": [
            "val Loss: 0.0441 Akurasi: 0.9860\n",
            "\n",
            "Epoch 11/30\n",
            "__________________________________________________\n"
          ]
        },
        {
          "name": "stderr",
          "output_type": "stream",
          "text": [
            "100%|██████████| 47/47 [00:35<00:00,  1.31it/s]\n"
          ]
        },
        {
          "name": "stdout",
          "output_type": "stream",
          "text": [
            "train Loss: 0.0080 Akurasi: 0.9977\n"
          ]
        },
        {
          "name": "stderr",
          "output_type": "stream",
          "text": [
            "100%|██████████| 16/16 [00:07<00:00,  2.11it/s]\n"
          ]
        },
        {
          "name": "stdout",
          "output_type": "stream",
          "text": [
            "val Loss: 0.0313 Akurasi: 0.9890\n",
            "\n",
            "Epoch 12/30\n",
            "__________________________________________________\n"
          ]
        },
        {
          "name": "stderr",
          "output_type": "stream",
          "text": [
            "100%|██████████| 47/47 [00:35<00:00,  1.31it/s]\n"
          ]
        },
        {
          "name": "stdout",
          "output_type": "stream",
          "text": [
            "train Loss: 0.0072 Akurasi: 0.9980\n"
          ]
        },
        {
          "name": "stderr",
          "output_type": "stream",
          "text": [
            "100%|██████████| 16/16 [00:08<00:00,  1.95it/s]\n"
          ]
        },
        {
          "name": "stdout",
          "output_type": "stream",
          "text": [
            "val Loss: 0.0275 Akurasi: 0.9920\n",
            "\n",
            "Epoch 13/30\n",
            "__________________________________________________\n"
          ]
        },
        {
          "name": "stderr",
          "output_type": "stream",
          "text": [
            "100%|██████████| 47/47 [00:36<00:00,  1.30it/s]\n"
          ]
        },
        {
          "name": "stdout",
          "output_type": "stream",
          "text": [
            "train Loss: 0.0060 Akurasi: 0.9980\n"
          ]
        },
        {
          "name": "stderr",
          "output_type": "stream",
          "text": [
            "100%|██████████| 16/16 [00:09<00:00,  1.73it/s]\n"
          ]
        },
        {
          "name": "stdout",
          "output_type": "stream",
          "text": [
            "val Loss: 0.0442 Akurasi: 0.9880\n",
            "\n",
            "Epoch 14/30\n",
            "__________________________________________________\n"
          ]
        },
        {
          "name": "stderr",
          "output_type": "stream",
          "text": [
            "100%|██████████| 47/47 [00:36<00:00,  1.30it/s]\n"
          ]
        },
        {
          "name": "stdout",
          "output_type": "stream",
          "text": [
            "train Loss: 0.0107 Akurasi: 0.9963\n"
          ]
        },
        {
          "name": "stderr",
          "output_type": "stream",
          "text": [
            "100%|██████████| 16/16 [00:07<00:00,  2.03it/s]\n"
          ]
        },
        {
          "name": "stdout",
          "output_type": "stream",
          "text": [
            "val Loss: 0.0391 Akurasi: 0.9880\n",
            "\n",
            "Epoch 15/30\n",
            "__________________________________________________\n"
          ]
        },
        {
          "name": "stderr",
          "output_type": "stream",
          "text": [
            "100%|██████████| 47/47 [00:36<00:00,  1.29it/s]\n"
          ]
        },
        {
          "name": "stdout",
          "output_type": "stream",
          "text": [
            "train Loss: 0.0091 Akurasi: 0.9970\n"
          ]
        },
        {
          "name": "stderr",
          "output_type": "stream",
          "text": [
            "100%|██████████| 16/16 [00:09<00:00,  1.73it/s]\n"
          ]
        },
        {
          "name": "stdout",
          "output_type": "stream",
          "text": [
            "val Loss: 0.0271 Akurasi: 0.9890\n",
            "\n",
            "Epoch 16/30\n",
            "__________________________________________________\n"
          ]
        },
        {
          "name": "stderr",
          "output_type": "stream",
          "text": [
            "100%|██████████| 47/47 [00:36<00:00,  1.29it/s]\n"
          ]
        },
        {
          "name": "stdout",
          "output_type": "stream",
          "text": [
            "train Loss: 0.0046 Akurasi: 0.9983\n"
          ]
        },
        {
          "name": "stderr",
          "output_type": "stream",
          "text": [
            "100%|██████████| 16/16 [00:09<00:00,  1.73it/s]\n"
          ]
        },
        {
          "name": "stdout",
          "output_type": "stream",
          "text": [
            "val Loss: 0.0363 Akurasi: 0.9870\n",
            "\n",
            "Epoch 17/30\n",
            "__________________________________________________\n"
          ]
        },
        {
          "name": "stderr",
          "output_type": "stream",
          "text": [
            "100%|██████████| 47/47 [00:36<00:00,  1.30it/s]\n"
          ]
        },
        {
          "name": "stdout",
          "output_type": "stream",
          "text": [
            "train Loss: 0.0068 Akurasi: 0.9980\n"
          ]
        },
        {
          "name": "stderr",
          "output_type": "stream",
          "text": [
            "100%|██████████| 16/16 [00:07<00:00,  2.03it/s]\n"
          ]
        },
        {
          "name": "stdout",
          "output_type": "stream",
          "text": [
            "val Loss: 0.0244 Akurasi: 0.9920\n",
            "\n",
            "Epoch 18/30\n",
            "__________________________________________________\n"
          ]
        },
        {
          "name": "stderr",
          "output_type": "stream",
          "text": [
            "100%|██████████| 47/47 [00:37<00:00,  1.27it/s]\n"
          ]
        },
        {
          "name": "stdout",
          "output_type": "stream",
          "text": [
            "train Loss: 0.0069 Akurasi: 0.9983\n"
          ]
        },
        {
          "name": "stderr",
          "output_type": "stream",
          "text": [
            "100%|██████████| 16/16 [00:09<00:00,  1.75it/s]\n"
          ]
        },
        {
          "name": "stdout",
          "output_type": "stream",
          "text": [
            "val Loss: 0.0201 Akurasi: 0.9920\n",
            "\n",
            "Epoch 19/30\n",
            "__________________________________________________\n"
          ]
        },
        {
          "name": "stderr",
          "output_type": "stream",
          "text": [
            "100%|██████████| 47/47 [00:35<00:00,  1.32it/s]\n"
          ]
        },
        {
          "name": "stdout",
          "output_type": "stream",
          "text": [
            "train Loss: 0.0108 Akurasi: 0.9970\n"
          ]
        },
        {
          "name": "stderr",
          "output_type": "stream",
          "text": [
            "100%|██████████| 16/16 [00:08<00:00,  1.87it/s]\n"
          ]
        },
        {
          "name": "stdout",
          "output_type": "stream",
          "text": [
            "val Loss: 0.0365 Akurasi: 0.9880\n",
            "\n",
            "Epoch 20/30\n",
            "__________________________________________________\n"
          ]
        },
        {
          "name": "stderr",
          "output_type": "stream",
          "text": [
            "100%|██████████| 47/47 [00:36<00:00,  1.30it/s]\n"
          ]
        },
        {
          "name": "stdout",
          "output_type": "stream",
          "text": [
            "train Loss: 0.0136 Akurasi: 0.9957\n"
          ]
        },
        {
          "name": "stderr",
          "output_type": "stream",
          "text": [
            "100%|██████████| 16/16 [00:08<00:00,  2.00it/s]\n"
          ]
        },
        {
          "name": "stdout",
          "output_type": "stream",
          "text": [
            "val Loss: 0.0276 Akurasi: 0.9910\n",
            "\n",
            "Epoch 21/30\n",
            "__________________________________________________\n"
          ]
        },
        {
          "name": "stderr",
          "output_type": "stream",
          "text": [
            "100%|██████████| 47/47 [00:36<00:00,  1.28it/s]\n"
          ]
        },
        {
          "name": "stdout",
          "output_type": "stream",
          "text": [
            "train Loss: 0.0035 Akurasi: 0.9987\n"
          ]
        },
        {
          "name": "stderr",
          "output_type": "stream",
          "text": [
            "100%|██████████| 16/16 [00:09<00:00,  1.74it/s]\n"
          ]
        },
        {
          "name": "stdout",
          "output_type": "stream",
          "text": [
            "val Loss: 0.0238 Akurasi: 0.9910\n",
            "\n",
            "Epoch 22/30\n",
            "__________________________________________________\n"
          ]
        },
        {
          "name": "stderr",
          "output_type": "stream",
          "text": [
            "100%|██████████| 47/47 [00:35<00:00,  1.31it/s]\n"
          ]
        },
        {
          "name": "stdout",
          "output_type": "stream",
          "text": [
            "train Loss: 0.0013 Akurasi: 0.9997\n"
          ]
        },
        {
          "name": "stderr",
          "output_type": "stream",
          "text": [
            "100%|██████████| 16/16 [00:07<00:00,  2.04it/s]\n"
          ]
        },
        {
          "name": "stdout",
          "output_type": "stream",
          "text": [
            "val Loss: 0.0261 Akurasi: 0.9940\n",
            "\n",
            "Epoch 23/30\n",
            "__________________________________________________\n"
          ]
        },
        {
          "name": "stderr",
          "output_type": "stream",
          "text": [
            "100%|██████████| 47/47 [00:36<00:00,  1.28it/s]\n"
          ]
        },
        {
          "name": "stdout",
          "output_type": "stream",
          "text": [
            "train Loss: 0.0016 Akurasi: 1.0000\n"
          ]
        },
        {
          "name": "stderr",
          "output_type": "stream",
          "text": [
            "100%|██████████| 16/16 [00:08<00:00,  1.80it/s]\n"
          ]
        },
        {
          "name": "stdout",
          "output_type": "stream",
          "text": [
            "val Loss: 0.0280 Akurasi: 0.9930\n",
            "\n",
            "Epoch 24/30\n",
            "__________________________________________________\n"
          ]
        },
        {
          "name": "stderr",
          "output_type": "stream",
          "text": [
            "100%|██████████| 47/47 [00:35<00:00,  1.31it/s]\n"
          ]
        },
        {
          "name": "stdout",
          "output_type": "stream",
          "text": [
            "train Loss: 0.0038 Akurasi: 0.9987\n"
          ]
        },
        {
          "name": "stderr",
          "output_type": "stream",
          "text": [
            "100%|██████████| 16/16 [00:08<00:00,  1.85it/s]\n"
          ]
        },
        {
          "name": "stdout",
          "output_type": "stream",
          "text": [
            "val Loss: 0.0154 Akurasi: 0.9960\n",
            "\n",
            "Epoch 25/30\n",
            "__________________________________________________\n"
          ]
        },
        {
          "name": "stderr",
          "output_type": "stream",
          "text": [
            "100%|██████████| 47/47 [00:35<00:00,  1.31it/s]\n"
          ]
        },
        {
          "name": "stdout",
          "output_type": "stream",
          "text": [
            "train Loss: 0.0017 Akurasi: 0.9993\n"
          ]
        },
        {
          "name": "stderr",
          "output_type": "stream",
          "text": [
            "100%|██████████| 16/16 [00:08<00:00,  1.87it/s]\n"
          ]
        },
        {
          "name": "stdout",
          "output_type": "stream",
          "text": [
            "val Loss: 0.0190 Akurasi: 0.9930\n",
            "\n",
            "Epoch 26/30\n",
            "__________________________________________________\n"
          ]
        },
        {
          "name": "stderr",
          "output_type": "stream",
          "text": [
            "100%|██████████| 47/47 [00:37<00:00,  1.27it/s]\n"
          ]
        },
        {
          "name": "stdout",
          "output_type": "stream",
          "text": [
            "train Loss: 0.0015 Akurasi: 0.9993\n"
          ]
        },
        {
          "name": "stderr",
          "output_type": "stream",
          "text": [
            "100%|██████████| 16/16 [00:08<00:00,  1.81it/s]\n"
          ]
        },
        {
          "name": "stdout",
          "output_type": "stream",
          "text": [
            "val Loss: 0.0213 Akurasi: 0.9940\n",
            "\n",
            "Epoch 27/30\n",
            "__________________________________________________\n"
          ]
        },
        {
          "name": "stderr",
          "output_type": "stream",
          "text": [
            "100%|██████████| 47/47 [00:36<00:00,  1.30it/s]\n"
          ]
        },
        {
          "name": "stdout",
          "output_type": "stream",
          "text": [
            "train Loss: 0.0026 Akurasi: 0.9993\n"
          ]
        },
        {
          "name": "stderr",
          "output_type": "stream",
          "text": [
            "100%|██████████| 16/16 [00:07<00:00,  2.01it/s]\n"
          ]
        },
        {
          "name": "stdout",
          "output_type": "stream",
          "text": [
            "val Loss: 0.0093 Akurasi: 0.9980\n",
            "\n",
            "Epoch 28/30\n",
            "__________________________________________________\n"
          ]
        },
        {
          "name": "stderr",
          "output_type": "stream",
          "text": [
            "100%|██████████| 47/47 [00:36<00:00,  1.29it/s]\n"
          ]
        },
        {
          "name": "stdout",
          "output_type": "stream",
          "text": [
            "train Loss: 0.0049 Akurasi: 0.9987\n"
          ]
        },
        {
          "name": "stderr",
          "output_type": "stream",
          "text": [
            "100%|██████████| 16/16 [00:08<00:00,  1.83it/s]\n"
          ]
        },
        {
          "name": "stdout",
          "output_type": "stream",
          "text": [
            "val Loss: 0.0247 Akurasi: 0.9970\n",
            "\n",
            "Epoch 29/30\n",
            "__________________________________________________\n"
          ]
        },
        {
          "name": "stderr",
          "output_type": "stream",
          "text": [
            "100%|██████████| 47/47 [00:35<00:00,  1.31it/s]\n"
          ]
        },
        {
          "name": "stdout",
          "output_type": "stream",
          "text": [
            "train Loss: 0.0016 Akurasi: 1.0000\n"
          ]
        },
        {
          "name": "stderr",
          "output_type": "stream",
          "text": [
            "100%|██████████| 16/16 [00:08<00:00,  1.82it/s]\n"
          ]
        },
        {
          "name": "stdout",
          "output_type": "stream",
          "text": [
            "val Loss: 0.0120 Akurasi: 0.9950\n",
            "\n",
            "Epoch 30/30\n",
            "__________________________________________________\n"
          ]
        },
        {
          "name": "stderr",
          "output_type": "stream",
          "text": [
            "100%|██████████| 47/47 [00:35<00:00,  1.31it/s]\n"
          ]
        },
        {
          "name": "stdout",
          "output_type": "stream",
          "text": [
            "train Loss: 0.0014 Akurasi: 0.9997\n"
          ]
        },
        {
          "name": "stderr",
          "output_type": "stream",
          "text": [
            "100%|██████████| 16/16 [00:07<00:00,  2.06it/s]"
          ]
        },
        {
          "name": "stdout",
          "output_type": "stream",
          "text": [
            "val Loss: 0.0102 Akurasi: 0.9980\n",
            "\n",
            "Akurasi Terbaik: 0.998000\n",
            "Loss Terbaik: 0.009320\n",
            "Epoch Terbaik: 27.000000\n"
          ]
        },
        {
          "name": "stderr",
          "output_type": "stream",
          "text": [
            "\n"
          ]
        }
      ],
      "source": [
        "my_model_at, my_training_history, my_validation_history = training_model(my_model, criterion, optimizer, exp_lr_scheduler,\n",
        "                       my_num_epochs=30)"
      ]
    },
    {
      "cell_type": "markdown",
      "metadata": {
        "id": "GSmkS7oWUZga"
      },
      "source": [
        "## Testing Data"
      ]
    },
    {
      "cell_type": "markdown",
      "metadata": {
        "id": "wqrKSBAPQjRF"
      },
      "source": [
        "### Function"
      ]
    },
    {
      "cell_type": "code",
      "execution_count": null,
      "metadata": {
        "colab": {
          "background_save": true
        },
        "id": "4TT-XST6hVpU"
      },
      "outputs": [],
      "source": [
        "def testing_model(my_model):\n",
        "  test_loss = 0.0\n",
        "  kelas_correct = list(0. for i in range(len(classes)))\n",
        "  kelas_total = list(0. for i in range(len(classes)))\n",
        "\n",
        "  my_model.eval()\n",
        "\n",
        "  for data, target in tqdm(test_loader):\n",
        "      if torch.cuda.is_available():\n",
        "          data, target = data.cuda(), target.cuda()\n",
        "      with torch.no_grad():\n",
        "        output = my_model(data)\n",
        "        loss = criterion(output, target)\n",
        "      test_loss += loss.item()*data.size(0)\n",
        "      _, prediksi = torch.max(output, 1)\n",
        "      correct_ts = prediksi.eq(target.data.view_as(prediksi))\n",
        "      correct = np.squeeze(correct_ts.numpy()) if not torch.cuda.is_available() else np.squeeze(correct_ts.cpu().numpy())\n",
        "      if len(target) == 64:\n",
        "        for i in range(64):\n",
        "            label = target.data[i]\n",
        "            kelas_correct[label] += correct[i].item()\n",
        "            kelas_total[label] += 1\n",
        "\n",
        "  test_loss = test_loss/len(test_loader.dataset)\n",
        "  print('Testing Model Loss : {:.6f}\\n'.format(test_loss))\n",
        "\n",
        "  for i in range(len(classes)):\n",
        "      if kelas_total[i] > 0:\n",
        "          print('Akurasi Testing Model dari %5s: %2d%% (%2d/%2d)' % (\n",
        "              classes[i], 100 * kelas_correct[i] / kelas_total[i],\n",
        "              np.sum(kelas_correct[i]), np.sum(kelas_total[i])))\n",
        "      else:\n",
        "          print('Akurasi Testing Model dari %5s: Tidak Ada (tidak ada contoh latihan)' % (classes[i]))\n",
        "\n",
        "  print('\\nAkurasi Testing Model Total (Secara Keseluruhan): {:.4f} ({}/{})'.format(\n",
        "      100. * np.sum(kelas_correct) / np.sum(kelas_total),\n",
        "      np.sum(kelas_correct), np.sum(kelas_total)))\n"
      ]
    },
    {
      "cell_type": "markdown",
      "metadata": {
        "id": "xO74wTiYQmc8"
      },
      "source": [
        "### Hasil"
      ]
    },
    {
      "cell_type": "code",
      "execution_count": null,
      "metadata": {
        "colab": {
          "background_save": true,
          "base_uri": "https://localhost:8080/"
        },
        "id": "dfc2cf05",
        "scrolled": true,
        "outputId": "bd385018-c017-43fa-e12a-0da7fffafbe4"
      },
      "outputs": [
        {
          "name": "stderr",
          "output_type": "stream",
          "text": [
            "100%|██████████| 16/16 [00:08<00:00,  1.82it/s]"
          ]
        },
        {
          "name": "stdout",
          "output_type": "stream",
          "text": [
            "Testing Model Loss : 0.027575\n",
            "\n",
            "Akurasi Testing Model dari cervix_dyk: 99% (197/198)\n",
            "Akurasi Testing Model dari cervix_koc: 99% (185/186)\n",
            "Akurasi Testing Model dari cervix_mep: 97% (189/193)\n",
            "Akurasi Testing Model dari cervix_pab: 100% (193/193)\n",
            "Akurasi Testing Model dari cervix_sfi: 100% (190/190)\n",
            "\n",
            "Akurasi Testing Model Total (Secara Keseluruhan): 99.3750 (954.0/960.0)\n"
          ]
        },
        {
          "name": "stderr",
          "output_type": "stream",
          "text": [
            "\n"
          ]
        }
      ],
      "source": [
        "testing_model(my_model_at)"
      ]
    },
    {
      "cell_type": "markdown",
      "metadata": {
        "id": "DquEUQLkUtVI"
      },
      "source": [
        "## Prediksi Gambar"
      ]
    },
    {
      "cell_type": "markdown",
      "metadata": {
        "id": "lXKy19dEQxVr"
      },
      "source": [
        "### Function"
      ]
    },
    {
      "cell_type": "code",
      "execution_count": null,
      "metadata": {
        "colab": {
          "background_save": true
        },
        "id": "71AKVyFukGS4"
      },
      "outputs": [],
      "source": [
        "def prediksi_gambar(my_model, pred_path):\n",
        "    transform = transforms.Compose([\n",
        "      transforms.RandomHorizontalFlip(),\n",
        "      transforms.RandomVerticalFlip(),\n",
        "      transforms.Resize(256),\n",
        "      transforms.CenterCrop(224),\n",
        "      transforms.ToTensor(),\n",
        "      transforms.Normalize((0.488), (0.2172))\n",
        "    ])\n",
        "\n",
        "    prediksi_gambar = Image.open(pred_path).convert(\"RGB\")\n",
        "    prediksi_gambar = transform(prediksi_gambar)\n",
        "    prediksi_gambar = prediksi_gambar.unsqueeze(0)\n",
        "\n",
        "    my_device = torch.device(\"cuda\" if torch.cuda.is_available() else \"cpu\")\n",
        "    my_model = my_model.to(my_device)\n",
        "    prediksi_gambar = prediksi_gambar.to(my_device)\n",
        "\n",
        "    my_model.eval()\n",
        "    with torch.no_grad():\n",
        "        output = my_model(prediksi_gambar)\n",
        "\n",
        "    peluang = torch.nn.functional.softmax(output, dim=1)[0]\n",
        "    _, prediksi_idx = torch.max(output, 1)\n",
        "\n",
        "    prediksi_kelas = prediksi_idx.item()\n",
        "\n",
        "    daftar_nama_kelas = {\n",
        "        0: \"cervix_dyk\",\n",
        "        1: \"cervix_koc\",\n",
        "        2: \"cervix_mep\",\n",
        "        3: \"cervix_pab\",\n",
        "        4: \"cervix_sfi\"\n",
        "    }\n",
        "    prediksi_nama_kelas = daftar_nama_kelas[prediksi_kelas]\n",
        "    kelas_asli = pred_path.split(\"/\")[-1].split(\"_\")[0] +\" \" + pred_path.split(\"/\")[-1].split(\"_\")[1]\n",
        "\n",
        "    print(\"Hasil Prediksi:\")\n",
        "    print(f\"Kelas Asli: {kelas_asli}\")\n",
        "    print(f\"Kelas: {prediksi_nama_kelas}\")\n",
        "    print(\"Probabilitas:\")\n",
        "    for i, prob in enumerate(peluang):\n",
        "        class_name = daftar_nama_kelas[i]\n",
        "        print(f\"{class_name}: {prob.item()}\")\n",
        "\n",
        "    return peluang, prediksi_kelas"
      ]
    },
    {
      "cell_type": "markdown",
      "metadata": {
        "id": "AqYeDPNRQ4pM"
      },
      "source": [
        "### Hasil"
      ]
    },
    {
      "cell_type": "code",
      "execution_count": null,
      "metadata": {
        "colab": {
          "background_save": true
        },
        "id": "8LMY8eVloXO9"
      },
      "outputs": [],
      "source": [
        "pred_path = '/content/Cervical-Cancer-EfficientNetV2/cervix_mep_1500.jpg'"
      ]
    },
    {
      "cell_type": "code",
      "execution_count": null,
      "metadata": {
        "colab": {
          "background_save": true
        },
        "id": "TnN70yQeogyO",
        "outputId": "d743c451-25ca-461a-a5f5-35b11a72befc"
      },
      "outputs": [
        {
          "data": {
            "image/png": "[encoded data removed]",
            "text/plain": [
              "<Figure size 640x480 with 1 Axes>"
            ]
          },
          "metadata": {},
          "output_type": "display_data"
        }
      ],
      "source": [
        "img = Image.open(pred_path)\n",
        "plt.imshow(img)\n",
        "plt.axis('off')\n",
        "plt.show()"
      ]
    },
    {
      "cell_type": "code",
      "execution_count": null,
      "metadata": {
        "id": "ubhTClEEooFh"
      },
      "outputs": [],
      "source": [
        "prediksi_gambar(my_model,pred_path)"
      ]
    },
    {
      "cell_type": "markdown",
      "metadata": {
        "id": "OzT65MxLlPCw"
      },
      "source": [
        "## Evaluasi"
      ]
    },
    {
      "cell_type": "markdown",
      "metadata": {
        "id": "DyV-Z5vnRGDZ"
      },
      "source": [
        "### Fungction"
      ]
    },
    {
      "cell_type": "code",
      "execution_count": null,
      "metadata": {
        "id": "h_1OaCj57hbl"
      },
      "outputs": [],
      "source": [
        "def plot_accuracy(train_acc, val_acc, title):\n",
        "    plt.title(title)\n",
        "    plt.plot(train_acc)\n",
        "    plt.plot(val_acc)\n",
        "    plt.ylabel('akurasi')\n",
        "    plt.xlabel('epoch')\n",
        "    plt.legend(['train_akurasi', 'validation_akurasi'], loc='best')\n",
        "    plt.show()\n",
        "\n",
        "def plot_loss(train_loss, val_loss, title):\n",
        "    plt.title(title)\n",
        "    plt.plot(train_loss)\n",
        "    plt.plot(val_loss)\n",
        "    plt.ylabel('loss')\n",
        "    plt.xlabel('epoch')\n",
        "    plt.legend(['train_loss', 'validation_loss'], loc='best')\n",
        "    plt.show()"
      ]
    },
    {
      "cell_type": "code",
      "execution_count": null,
      "metadata": {
        "id": "SWiPCmTLiYoG"
      },
      "outputs": [],
      "source": [
        "def cpu_to_nump(training_history, validation_history):\n",
        "  history = defaultdict(list)\n",
        "  for i in range (len(training_history['akurasi'])):\n",
        "    history['train_acc'].append(training_history['akurasi'][i].cpu().numpy())\n",
        "    history['train_loss'].append(training_history['loss'][i])\n",
        "    history['val_acc'].append(validation_history['akurasi'][i].cpu().numpy())\n",
        "    history['val_loss'].append(validation_history['loss'][i])\n",
        "  return history"
      ]
    },
    {
      "cell_type": "code",
      "execution_count": null,
      "metadata": {
        "id": "XmaPU9nhfTqS"
      },
      "outputs": [],
      "source": [
        "def conf_matrix(y_true, y_pred):\n",
        "  conf_matrix = confusion_matrix(y_true=y_true, y_pred=y_pred)\n",
        "  fig, ax = plt.subplots(figsize=(7.5, 7.5))\n",
        "  ax.matshow(conf_matrix, cmap=plt.cm.Blues, alpha=0.3)\n",
        "  for i in range(conf_matrix.shape[0]):\n",
        "      for j in range(conf_matrix.shape[1]):\n",
        "          ax.text(x=j, y=i,s=conf_matrix[i, j], va='center', ha='center', size='xx-large')\n",
        "\n",
        "  plt.xlabel('Predictions', fontsize=18)\n",
        "  plt.ylabel('Actuals', fontsize=18)\n",
        "  plt.title('Confusion Matrix', fontsize=18)\n",
        "  plt.show()"
      ]
    },
    {
      "cell_type": "code",
      "execution_count": null,
      "metadata": {
        "id": "be567fac"
      },
      "outputs": [],
      "source": [
        "def cm_cr(model):\n",
        "    y_pred = []\n",
        "    y_true = []\n",
        "    model.eval()\n",
        "    for data, target in tqdm(test_loader):\n",
        "        y_true = y_true + target.tolist()\n",
        "        if torch.cuda.is_available():\n",
        "            data, target = data.cuda(), target.cuda()\n",
        "        with torch.no_grad():\n",
        "            output = model(data)\n",
        "            loss = criterion(output, target)\n",
        "            _, pred = torch.max(output, 1)\n",
        "            y_pred = y_pred + pred.tolist()\n",
        "    print(conf_matrix(y_true,y_pred))\n",
        "    print(classification_report(y_true,y_pred))"
      ]
    },
    {
      "cell_type": "markdown",
      "metadata": {
        "id": "jSWnc96jRaEf"
      },
      "source": [
        "### Hasil"
      ]
    },
    {
      "cell_type": "code",
      "execution_count": null,
      "metadata": {
        "id": "X_AcE1U8jvvB"
      },
      "outputs": [],
      "source": [
        "data_history = cpu_to_nump(my_training_history, my_validation_history)"
      ]
    },
    {
      "cell_type": "code",
      "execution_count": null,
      "metadata": {
        "id": "2PvQrDAIB8Ho"
      },
      "outputs": [],
      "source": [
        "plot_accuracy(data_history['train_acc'], data_history['val_acc'], \"Pengaruh Nilai Epoch Terhadap nilai Akurasi\")"
      ]
    },
    {
      "cell_type": "code",
      "execution_count": null,
      "metadata": {
        "id": "mu8ohXoL-Rns"
      },
      "outputs": [],
      "source": [
        "plot_loss(data_history['train_loss'], data_history['val_loss'], \"Pengaruh Nilai Epoch Terhadap nilai Loss\")"
      ]
    },
    {
      "cell_type": "code",
      "execution_count": null,
      "metadata": {
        "id": "TQSg-MQ19tvO"
      },
      "outputs": [],
      "source": [
        "cm_cr(my_model_at)"
      ]
    },
    {
      "cell_type": "markdown",
      "metadata": {
        "id": "M7D72-iPRer2"
      },
      "source": [
        "## Waktu Eksekusi"
      ]
    },
    {
      "cell_type": "code",
      "execution_count": null,
      "metadata": {
        "id": "MIeR2bpH-qig"
      },
      "outputs": [],
      "source": [
        "t = time.time() - start\n",
        "print('Waktu Eksekusi =  {:.0f}m {:.0f}s'.format(\n",
        "        t // 60, t % 60))"
      ]
    }
  ],
  "metadata": {
    "accelerator": "GPU",
    "colab": {
      "provenance": []
    },
    "kernelspec": {
      "display_name": "Python 3",
      "name": "python3"
    },
    "language_info": {
      "name": "python"
    },
    "widgets": {
      "application/vnd.jupyter.widget-state+json": {
        "0b594a22a0ab4cd8a62f2a31011a9d73": {
          "model_module": "@jupyter-widgets/controls",
          "model_module_version": "1.5.0",
          "model_name": "HTMLModel",
          "state": {
            "_dom_classes": [],
            "_model_module": "@jupyter-widgets/controls",
            "_model_module_version": "1.5.0",
            "_model_name": "HTMLModel",
            "_view_count": null,
            "_view_module": "@jupyter-widgets/controls",
            "_view_module_version": "1.5.0",
            "_view_name": "HTMLView",
            "description": "",
            "description_tooltip": null,
            "layout": "IPY_MODEL_47e968abe39a4cb5a3fe428f45c38b68",
            "placeholder": "​",
            "style": "IPY_MODEL_6e48613726f047b4a037b9e744336bd1",
            "value": "Downloading model.safetensors: 100%"
          }
        },
        "40e81fad7a8c4023949dcbda2417c39d": {
          "model_module": "@jupyter-widgets/controls",
          "model_module_version": "1.5.0",
          "model_name": "HTMLModel",
          "state": {
            "_dom_classes": [],
            "_model_module": "@jupyter-widgets/controls",
            "_model_module_version": "1.5.0",
            "_model_name": "HTMLModel",
            "_view_count": null,
            "_view_module": "@jupyter-widgets/controls",
            "_view_module_version": "1.5.0",
            "_view_name": "HTMLView",
            "description": "",
            "description_tooltip": null,
            "layout": "IPY_MODEL_5bf12bd9bb704628b456ca7bfd3c7201",
            "placeholder": "​",
            "style": "IPY_MODEL_44b1f6532a524512942b362fca63191f",
            "value": " 86.5M/86.5M [00:05&lt;00:00, 17.0MB/s]"
          }
        },
        "44b1f6532a524512942b362fca63191f": {
          "model_module": "@jupyter-widgets/controls",
          "model_module_version": "1.5.0",
          "model_name": "DescriptionStyleModel",
          "state": {
            "_model_module": "@jupyter-widgets/controls",
            "_model_module_version": "1.5.0",
            "_model_name": "DescriptionStyleModel",
            "_view_count": null,
            "_view_module": "@jupyter-widgets/base",
            "_view_module_version": "1.2.0",
            "_view_name": "StyleView",
            "description_width": ""
          }
        },
        "47e968abe39a4cb5a3fe428f45c38b68": {
          "model_module": "@jupyter-widgets/base",
          "model_module_version": "1.2.0",
          "model_name": "LayoutModel",
          "state": {
            "_model_module": "@jupyter-widgets/base",
            "_model_module_version": "1.2.0",
            "_model_name": "LayoutModel",
            "_view_count": null,
            "_view_module": "@jupyter-widgets/base",
            "_view_module_version": "1.2.0",
            "_view_name": "LayoutView",
            "align_content": null,
            "align_items": null,
            "align_self": null,
            "border": null,
            "bottom": null,
            "display": null,
            "flex": null,
            "flex_flow": null,
            "grid_area": null,
            "grid_auto_columns": null,
            "grid_auto_flow": null,
            "grid_auto_rows": null,
            "grid_column": null,
            "grid_gap": null,
            "grid_row": null,
            "grid_template_areas": null,
            "grid_template_columns": null,
            "grid_template_rows": null,
            "height": null,
            "justify_content": null,
            "justify_items": null,
            "left": null,
            "margin": null,
            "max_height": null,
            "max_width": null,
            "min_height": null,
            "min_width": null,
            "object_fit": null,
            "object_position": null,
            "order": null,
            "overflow": null,
            "overflow_x": null,
            "overflow_y": null,
            "padding": null,
            "right": null,
            "top": null,
            "visibility": null,
            "width": null
          }
        },
        "5bf12bd9bb704628b456ca7bfd3c7201": {
          "model_module": "@jupyter-widgets/base",
          "model_module_version": "1.2.0",
          "model_name": "LayoutModel",
          "state": {
            "_model_module": "@jupyter-widgets/base",
            "_model_module_version": "1.2.0",
            "_model_name": "LayoutModel",
            "_view_count": null,
            "_view_module": "@jupyter-widgets/base",
            "_view_module_version": "1.2.0",
            "_view_name": "LayoutView",
            "align_content": null,
            "align_items": null,
            "align_self": null,
            "border": null,
            "bottom": null,
            "display": null,
            "flex": null,
            "flex_flow": null,
            "grid_area": null,
            "grid_auto_columns": null,
            "grid_auto_flow": null,
            "grid_auto_rows": null,
            "grid_column": null,
            "grid_gap": null,
            "grid_row": null,
            "grid_template_areas": null,
            "grid_template_columns": null,
            "grid_template_rows": null,
            "height": null,
            "justify_content": null,
            "justify_items": null,
            "left": null,
            "margin": null,
            "max_height": null,
            "max_width": null,
            "min_height": null,
            "min_width": null,
            "object_fit": null,
            "object_position": null,
            "order": null,
            "overflow": null,
            "overflow_x": null,
            "overflow_y": null,
            "padding": null,
            "right": null,
            "top": null,
            "visibility": null,
            "width": null
          }
        },
        "5cb33852e9724f3aa0da8ae656e10278": {
          "model_module": "@jupyter-widgets/base",
          "model_module_version": "1.2.0",
          "model_name": "LayoutModel",
          "state": {
            "_model_module": "@jupyter-widgets/base",
            "_model_module_version": "1.2.0",
            "_model_name": "LayoutModel",
            "_view_count": null,
            "_view_module": "@jupyter-widgets/base",
            "_view_module_version": "1.2.0",
            "_view_name": "LayoutView",
            "align_content": null,
            "align_items": null,
            "align_self": null,
            "border": null,
            "bottom": null,
            "display": null,
            "flex": null,
            "flex_flow": null,
            "grid_area": null,
            "grid_auto_columns": null,
            "grid_auto_flow": null,
            "grid_auto_rows": null,
            "grid_column": null,
            "grid_gap": null,
            "grid_row": null,
            "grid_template_areas": null,
            "grid_template_columns": null,
            "grid_template_rows": null,
            "height": null,
            "justify_content": null,
            "justify_items": null,
            "left": null,
            "margin": null,
            "max_height": null,
            "max_width": null,
            "min_height": null,
            "min_width": null,
            "object_fit": null,
            "object_position": null,
            "order": null,
            "overflow": null,
            "overflow_x": null,
            "overflow_y": null,
            "padding": null,
            "right": null,
            "top": null,
            "visibility": null,
            "width": null
          }
        },
        "6e48613726f047b4a037b9e744336bd1": {
          "model_module": "@jupyter-widgets/controls",
          "model_module_version": "1.5.0",
          "model_name": "DescriptionStyleModel",
          "state": {
            "_model_module": "@jupyter-widgets/controls",
            "_model_module_version": "1.5.0",
            "_model_name": "DescriptionStyleModel",
            "_view_count": null,
            "_view_module": "@jupyter-widgets/base",
            "_view_module_version": "1.2.0",
            "_view_name": "StyleView",
            "description_width": ""
          }
        },
        "9ae27081390e464f89529cf515158d9e": {
          "model_module": "@jupyter-widgets/controls",
          "model_module_version": "1.5.0",
          "model_name": "HBoxModel",
          "state": {
            "_dom_classes": [],
            "_model_module": "@jupyter-widgets/controls",
            "_model_module_version": "1.5.0",
            "_model_name": "HBoxModel",
            "_view_count": null,
            "_view_module": "@jupyter-widgets/controls",
            "_view_module_version": "1.5.0",
            "_view_name": "HBoxView",
            "box_style": "",
            "children": [
              "IPY_MODEL_0b594a22a0ab4cd8a62f2a31011a9d73",
              "IPY_MODEL_fd88de2c75a94da7bdd99a7b738486a2",
              "IPY_MODEL_40e81fad7a8c4023949dcbda2417c39d"
            ],
            "layout": "IPY_MODEL_f2bc9544f8664b4bb955031e680ef072"
          }
        },
        "f2bc9544f8664b4bb955031e680ef072": {
          "model_module": "@jupyter-widgets/base",
          "model_module_version": "1.2.0",
          "model_name": "LayoutModel",
          "state": {
            "_model_module": "@jupyter-widgets/base",
            "_model_module_version": "1.2.0",
            "_model_name": "LayoutModel",
            "_view_count": null,
            "_view_module": "@jupyter-widgets/base",
            "_view_module_version": "1.2.0",
            "_view_name": "LayoutView",
            "align_content": null,
            "align_items": null,
            "align_self": null,
            "border": null,
            "bottom": null,
            "display": null,
            "flex": null,
            "flex_flow": null,
            "grid_area": null,
            "grid_auto_columns": null,
            "grid_auto_flow": null,
            "grid_auto_rows": null,
            "grid_column": null,
            "grid_gap": null,
            "grid_row": null,
            "grid_template_areas": null,
            "grid_template_columns": null,
            "grid_template_rows": null,
            "height": null,
            "justify_content": null,
            "justify_items": null,
            "left": null,
            "margin": null,
            "max_height": null,
            "max_width": null,
            "min_height": null,
            "min_width": null,
            "object_fit": null,
            "object_position": null,
            "order": null,
            "overflow": null,
            "overflow_x": null,
            "overflow_y": null,
            "padding": null,
            "right": null,
            "top": null,
            "visibility": null,
            "width": null
          }
        },
        "fd88de2c75a94da7bdd99a7b738486a2": {
          "model_module": "@jupyter-widgets/controls",
          "model_module_version": "1.5.0",
          "model_name": "FloatProgressModel",
          "state": {
            "_dom_classes": [],
            "_model_module": "@jupyter-widgets/controls",
            "_model_module_version": "1.5.0",
            "_model_name": "FloatProgressModel",
            "_view_count": null,
            "_view_module": "@jupyter-widgets/controls",
            "_view_module_version": "1.5.0",
            "_view_name": "ProgressView",
            "bar_style": "success",
            "description": "",
            "description_tooltip": null,
            "layout": "IPY_MODEL_5cb33852e9724f3aa0da8ae656e10278",
            "max": 86523256,
            "min": 0,
            "orientation": "horizontal",
            "style": "IPY_MODEL_ff66a6afdcf948489c1a550a16d27517",
            "value": 86523256
          }
        },
        "ff66a6afdcf948489c1a550a16d27517": {
          "model_module": "@jupyter-widgets/controls",
          "model_module_version": "1.5.0",
          "model_name": "ProgressStyleModel",
          "state": {
            "_model_module": "@jupyter-widgets/controls",
            "_model_module_version": "1.5.0",
            "_model_name": "ProgressStyleModel",
            "_view_count": null,
            "_view_module": "@jupyter-widgets/base",
            "_view_module_version": "1.2.0",
            "_view_name": "StyleView",
            "bar_color": null,
            "description_width": ""
          }
        }
      }
    }
  },
  "nbformat": 4,
  "nbformat_minor": 0
}