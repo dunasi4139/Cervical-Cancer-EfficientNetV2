{
  "nbformat": 4,
  "nbformat_minor": 0,
  "metadata": {
    "colab": {
      "provenance": [],
      "gpuType": "T4"
    },
    "kernelspec": {
      "name": "python3",
      "display_name": "Python 3"
    },
    "language_info": {
      "name": "python"
    },
    "accelerator": "GPU",
    "widgets": {
      "application/vnd.jupyter.widget-state+json": {
        "9fbdb5b8f2e84375aa46cc70301f32da": {
          "model_module": "@jupyter-widgets/controls",
          "model_name": "HBoxModel",
          "model_module_version": "1.5.0",
          "state": {
            "_dom_classes": [],
            "_model_module": "@jupyter-widgets/controls",
            "_model_module_version": "1.5.0",
            "_model_name": "HBoxModel",
            "_view_count": null,
            "_view_module": "@jupyter-widgets/controls",
            "_view_module_version": "1.5.0",
            "_view_name": "HBoxView",
            "box_style": "",
            "children": [
              "IPY_MODEL_efe3bc77e52c4491b547cd3bfd278f48",
              "IPY_MODEL_4ceb1056bc8f49d1bf88375a992ce888",
              "IPY_MODEL_4ec3dab1414d4b40bb02ae84a49b17dd"
            ],
            "layout": "IPY_MODEL_d1014ea063cd4b17ad7e249cb6eaed45"
          }
        },
        "efe3bc77e52c4491b547cd3bfd278f48": {
          "model_module": "@jupyter-widgets/controls",
          "model_name": "HTMLModel",
          "model_module_version": "1.5.0",
          "state": {
            "_dom_classes": [],
            "_model_module": "@jupyter-widgets/controls",
            "_model_module_version": "1.5.0",
            "_model_name": "HTMLModel",
            "_view_count": null,
            "_view_module": "@jupyter-widgets/controls",
            "_view_module_version": "1.5.0",
            "_view_name": "HTMLView",
            "description": "",
            "description_tooltip": null,
            "layout": "IPY_MODEL_1fd4ec6deaf64b75a3d909299abcdeef",
            "placeholder": "​",
            "style": "IPY_MODEL_e5a76c321a8c435983ce1deaa32de21e",
            "value": "Downloading model.safetensors: 100%"
          }
        },
        "4ceb1056bc8f49d1bf88375a992ce888": {
          "model_module": "@jupyter-widgets/controls",
          "model_name": "FloatProgressModel",
          "model_module_version": "1.5.0",
          "state": {
            "_dom_classes": [],
            "_model_module": "@jupyter-widgets/controls",
            "_model_module_version": "1.5.0",
            "_model_name": "FloatProgressModel",
            "_view_count": null,
            "_view_module": "@jupyter-widgets/controls",
            "_view_module_version": "1.5.0",
            "_view_name": "ProgressView",
            "bar_style": "success",
            "description": "",
            "description_tooltip": null,
            "layout": "IPY_MODEL_2025ac7435074fb9bc4db2bb0e66e551",
            "max": 86523256,
            "min": 0,
            "orientation": "horizontal",
            "style": "IPY_MODEL_f7769d42b9844ab397e7a022be218ab1",
            "value": 86523256
          }
        },
        "4ec3dab1414d4b40bb02ae84a49b17dd": {
          "model_module": "@jupyter-widgets/controls",
          "model_name": "HTMLModel",
          "model_module_version": "1.5.0",
          "state": {
            "_dom_classes": [],
            "_model_module": "@jupyter-widgets/controls",
            "_model_module_version": "1.5.0",
            "_model_name": "HTMLModel",
            "_view_count": null,
            "_view_module": "@jupyter-widgets/controls",
            "_view_module_version": "1.5.0",
            "_view_name": "HTMLView",
            "description": "",
            "description_tooltip": null,
            "layout": "IPY_MODEL_c061e5cc0c714740b0a53d19222772f8",
            "placeholder": "​",
            "style": "IPY_MODEL_d8ad046182784886accedd26c6a0464c",
            "value": " 86.5M/86.5M [00:01&lt;00:00, 62.7MB/s]"
          }
        },
        "d1014ea063cd4b17ad7e249cb6eaed45": {
          "model_module": "@jupyter-widgets/base",
          "model_name": "LayoutModel",
          "model_module_version": "1.2.0",
          "state": {
            "_model_module": "@jupyter-widgets/base",
            "_model_module_version": "1.2.0",
            "_model_name": "LayoutModel",
            "_view_count": null,
            "_view_module": "@jupyter-widgets/base",
            "_view_module_version": "1.2.0",
            "_view_name": "LayoutView",
            "align_content": null,
            "align_items": null,
            "align_self": null,
            "border": null,
            "bottom": null,
            "display": null,
            "flex": null,
            "flex_flow": null,
            "grid_area": null,
            "grid_auto_columns": null,
            "grid_auto_flow": null,
            "grid_auto_rows": null,
            "grid_column": null,
            "grid_gap": null,
            "grid_row": null,
            "grid_template_areas": null,
            "grid_template_columns": null,
            "grid_template_rows": null,
            "height": null,
            "justify_content": null,
            "justify_items": null,
            "left": null,
            "margin": null,
            "max_height": null,
            "max_width": null,
            "min_height": null,
            "min_width": null,
            "object_fit": null,
            "object_position": null,
            "order": null,
            "overflow": null,
            "overflow_x": null,
            "overflow_y": null,
            "padding": null,
            "right": null,
            "top": null,
            "visibility": null,
            "width": null
          }
        },
        "1fd4ec6deaf64b75a3d909299abcdeef": {
          "model_module": "@jupyter-widgets/base",
          "model_name": "LayoutModel",
          "model_module_version": "1.2.0",
          "state": {
            "_model_module": "@jupyter-widgets/base",
            "_model_module_version": "1.2.0",
            "_model_name": "LayoutModel",
            "_view_count": null,
            "_view_module": "@jupyter-widgets/base",
            "_view_module_version": "1.2.0",
            "_view_name": "LayoutView",
            "align_content": null,
            "align_items": null,
            "align_self": null,
            "border": null,
            "bottom": null,
            "display": null,
            "flex": null,
            "flex_flow": null,
            "grid_area": null,
            "grid_auto_columns": null,
            "grid_auto_flow": null,
            "grid_auto_rows": null,
            "grid_column": null,
            "grid_gap": null,
            "grid_row": null,
            "grid_template_areas": null,
            "grid_template_columns": null,
            "grid_template_rows": null,
            "height": null,
            "justify_content": null,
            "justify_items": null,
            "left": null,
            "margin": null,
            "max_height": null,
            "max_width": null,
            "min_height": null,
            "min_width": null,
            "object_fit": null,
            "object_position": null,
            "order": null,
            "overflow": null,
            "overflow_x": null,
            "overflow_y": null,
            "padding": null,
            "right": null,
            "top": null,
            "visibility": null,
            "width": null
          }
        },
        "e5a76c321a8c435983ce1deaa32de21e": {
          "model_module": "@jupyter-widgets/controls",
          "model_name": "DescriptionStyleModel",
          "model_module_version": "1.5.0",
          "state": {
            "_model_module": "@jupyter-widgets/controls",
            "_model_module_version": "1.5.0",
            "_model_name": "DescriptionStyleModel",
            "_view_count": null,
            "_view_module": "@jupyter-widgets/base",
            "_view_module_version": "1.2.0",
            "_view_name": "StyleView",
            "description_width": ""
          }
        },
        "2025ac7435074fb9bc4db2bb0e66e551": {
          "model_module": "@jupyter-widgets/base",
          "model_name": "LayoutModel",
          "model_module_version": "1.2.0",
          "state": {
            "_model_module": "@jupyter-widgets/base",
            "_model_module_version": "1.2.0",
            "_model_name": "LayoutModel",
            "_view_count": null,
            "_view_module": "@jupyter-widgets/base",
            "_view_module_version": "1.2.0",
            "_view_name": "LayoutView",
            "align_content": null,
            "align_items": null,
            "align_self": null,
            "border": null,
            "bottom": null,
            "display": null,
            "flex": null,
            "flex_flow": null,
            "grid_area": null,
            "grid_auto_columns": null,
            "grid_auto_flow": null,
            "grid_auto_rows": null,
            "grid_column": null,
            "grid_gap": null,
            "grid_row": null,
            "grid_template_areas": null,
            "grid_template_columns": null,
            "grid_template_rows": null,
            "height": null,
            "justify_content": null,
            "justify_items": null,
            "left": null,
            "margin": null,
            "max_height": null,
            "max_width": null,
            "min_height": null,
            "min_width": null,
            "object_fit": null,
            "object_position": null,
            "order": null,
            "overflow": null,
            "overflow_x": null,
            "overflow_y": null,
            "padding": null,
            "right": null,
            "top": null,
            "visibility": null,
            "width": null
          }
        },
        "f7769d42b9844ab397e7a022be218ab1": {
          "model_module": "@jupyter-widgets/controls",
          "model_name": "ProgressStyleModel",
          "model_module_version": "1.5.0",
          "state": {
            "_model_module": "@jupyter-widgets/controls",
            "_model_module_version": "1.5.0",
            "_model_name": "ProgressStyleModel",
            "_view_count": null,
            "_view_module": "@jupyter-widgets/base",
            "_view_module_version": "1.2.0",
            "_view_name": "StyleView",
            "bar_color": null,
            "description_width": ""
          }
        },
        "c061e5cc0c714740b0a53d19222772f8": {
          "model_module": "@jupyter-widgets/base",
          "model_name": "LayoutModel",
          "model_module_version": "1.2.0",
          "state": {
            "_model_module": "@jupyter-widgets/base",
            "_model_module_version": "1.2.0",
            "_model_name": "LayoutModel",
            "_view_count": null,
            "_view_module": "@jupyter-widgets/base",
            "_view_module_version": "1.2.0",
            "_view_name": "LayoutView",
            "align_content": null,
            "align_items": null,
            "align_self": null,
            "border": null,
            "bottom": null,
            "display": null,
            "flex": null,
            "flex_flow": null,
            "grid_area": null,
            "grid_auto_columns": null,
            "grid_auto_flow": null,
            "grid_auto_rows": null,
            "grid_column": null,
            "grid_gap": null,
            "grid_row": null,
            "grid_template_areas": null,
            "grid_template_columns": null,
            "grid_template_rows": null,
            "height": null,
            "justify_content": null,
            "justify_items": null,
            "left": null,
            "margin": null,
            "max_height": null,
            "max_width": null,
            "min_height": null,
            "min_width": null,
            "object_fit": null,
            "object_position": null,
            "order": null,
            "overflow": null,
            "overflow_x": null,
            "overflow_y": null,
            "padding": null,
            "right": null,
            "top": null,
            "visibility": null,
            "width": null
          }
        },
        "d8ad046182784886accedd26c6a0464c": {
          "model_module": "@jupyter-widgets/controls",
          "model_name": "DescriptionStyleModel",
          "model_module_version": "1.5.0",
          "state": {
            "_model_module": "@jupyter-widgets/controls",
            "_model_module_version": "1.5.0",
            "_model_name": "DescriptionStyleModel",
            "_view_count": null,
            "_view_module": "@jupyter-widgets/base",
            "_view_module_version": "1.2.0",
            "_view_name": "StyleView",
            "description_width": ""
          }
        }
      }
    }
  },
  "cells": [
    {
      "cell_type": "markdown",
      "source": [
        "## Import Library\n",
        "\n",
        "---"
      ],
      "metadata": {
        "id": "6bJWdkHNTIVd"
      }
    },
    {
      "cell_type": "code",
      "source": [
        "!pip install timm"
      ],
      "metadata": {
        "id": "b95KYY-FxpBe",
        "colab": {
          "base_uri": "https://localhost:8080/"
        },
        "outputId": "09923c79-86f9-47eb-f34f-9b45b8828a6c"
      },
      "execution_count": 1,
      "outputs": [
        {
          "output_type": "stream",
          "name": "stdout",
          "text": [
            "Collecting timm\n",
            "  Downloading timm-0.9.2-py3-none-any.whl (2.2 MB)\n",
            "\u001b[?25l     \u001b[90m━━━━━━━━━━━━━━━━━━━━━━━━━━━━━━━━━━━━━━━━\u001b[0m \u001b[32m0.0/2.2 MB\u001b[0m \u001b[31m?\u001b[0m eta \u001b[36m-:--:--\u001b[0m\r\u001b[2K     \u001b[90m━━━━━━━━━━━━━━━━━━━━━━━━━━━━━━━━━━━━━━━━\u001b[0m \u001b[32m2.2/2.2 MB\u001b[0m \u001b[31m68.4 MB/s\u001b[0m eta \u001b[36m0:00:00\u001b[0m\n",
            "\u001b[?25hRequirement already satisfied: torch>=1.7 in /usr/local/lib/python3.10/dist-packages (from timm) (2.0.1+cu118)\n",
            "Requirement already satisfied: torchvision in /usr/local/lib/python3.10/dist-packages (from timm) (0.15.2+cu118)\n",
            "Requirement already satisfied: pyyaml in /usr/local/lib/python3.10/dist-packages (from timm) (6.0)\n",
            "Collecting huggingface-hub (from timm)\n",
            "  Downloading huggingface_hub-0.15.1-py3-none-any.whl (236 kB)\n",
            "\u001b[2K     \u001b[90m━━━━━━━━━━━━━━━━━━━━━━━━━━━━━━━━━━━━━━\u001b[0m \u001b[32m236.8/236.8 kB\u001b[0m \u001b[31m26.6 MB/s\u001b[0m eta \u001b[36m0:00:00\u001b[0m\n",
            "\u001b[?25hCollecting safetensors (from timm)\n",
            "  Downloading safetensors-0.3.1-cp310-cp310-manylinux_2_17_x86_64.manylinux2014_x86_64.whl (1.3 MB)\n",
            "\u001b[2K     \u001b[90m━━━━━━━━━━━━━━━━━━━━━━━━━━━━━━━━━━━━━━━━\u001b[0m \u001b[32m1.3/1.3 MB\u001b[0m \u001b[31m74.8 MB/s\u001b[0m eta \u001b[36m0:00:00\u001b[0m\n",
            "\u001b[?25hRequirement already satisfied: filelock in /usr/local/lib/python3.10/dist-packages (from torch>=1.7->timm) (3.12.2)\n",
            "Requirement already satisfied: typing-extensions in /usr/local/lib/python3.10/dist-packages (from torch>=1.7->timm) (4.6.3)\n",
            "Requirement already satisfied: sympy in /usr/local/lib/python3.10/dist-packages (from torch>=1.7->timm) (1.11.1)\n",
            "Requirement already satisfied: networkx in /usr/local/lib/python3.10/dist-packages (from torch>=1.7->timm) (3.1)\n",
            "Requirement already satisfied: jinja2 in /usr/local/lib/python3.10/dist-packages (from torch>=1.7->timm) (3.1.2)\n",
            "Requirement already satisfied: triton==2.0.0 in /usr/local/lib/python3.10/dist-packages (from torch>=1.7->timm) (2.0.0)\n",
            "Requirement already satisfied: cmake in /usr/local/lib/python3.10/dist-packages (from triton==2.0.0->torch>=1.7->timm) (3.25.2)\n",
            "Requirement already satisfied: lit in /usr/local/lib/python3.10/dist-packages (from triton==2.0.0->torch>=1.7->timm) (16.0.6)\n",
            "Requirement already satisfied: fsspec in /usr/local/lib/python3.10/dist-packages (from huggingface-hub->timm) (2023.6.0)\n",
            "Requirement already satisfied: requests in /usr/local/lib/python3.10/dist-packages (from huggingface-hub->timm) (2.27.1)\n",
            "Requirement already satisfied: tqdm>=4.42.1 in /usr/local/lib/python3.10/dist-packages (from huggingface-hub->timm) (4.65.0)\n",
            "Requirement already satisfied: packaging>=20.9 in /usr/local/lib/python3.10/dist-packages (from huggingface-hub->timm) (23.1)\n",
            "Requirement already satisfied: numpy in /usr/local/lib/python3.10/dist-packages (from torchvision->timm) (1.22.4)\n",
            "Requirement already satisfied: pillow!=8.3.*,>=5.3.0 in /usr/local/lib/python3.10/dist-packages (from torchvision->timm) (8.4.0)\n",
            "Requirement already satisfied: MarkupSafe>=2.0 in /usr/local/lib/python3.10/dist-packages (from jinja2->torch>=1.7->timm) (2.1.3)\n",
            "Requirement already satisfied: urllib3<1.27,>=1.21.1 in /usr/local/lib/python3.10/dist-packages (from requests->huggingface-hub->timm) (1.26.16)\n",
            "Requirement already satisfied: certifi>=2017.4.17 in /usr/local/lib/python3.10/dist-packages (from requests->huggingface-hub->timm) (2023.5.7)\n",
            "Requirement already satisfied: charset-normalizer~=2.0.0 in /usr/local/lib/python3.10/dist-packages (from requests->huggingface-hub->timm) (2.0.12)\n",
            "Requirement already satisfied: idna<4,>=2.5 in /usr/local/lib/python3.10/dist-packages (from requests->huggingface-hub->timm) (3.4)\n",
            "Requirement already satisfied: mpmath>=0.19 in /usr/local/lib/python3.10/dist-packages (from sympy->torch>=1.7->timm) (1.3.0)\n",
            "Installing collected packages: safetensors, huggingface-hub, timm\n",
            "Successfully installed huggingface-hub-0.15.1 safetensors-0.3.1 timm-0.9.2\n"
          ]
        }
      ]
    },
    {
      "cell_type": "code",
      "source": [
        "import time\n",
        "import pandas as pd\n",
        "import numpy as np\n",
        "import matplotlib.pyplot as plt\n",
        "import os\n",
        "import math\n",
        "import torch\n",
        "import torchvision\n",
        "import timm\n",
        "import copy\n",
        "from PIL import Image\n",
        "from google.colab import files\n",
        "from torchvision.datasets import ImageFolder\n",
        "from torchvision import datasets, transforms\n",
        "from torch.nn import functional as F\n",
        "from torch.utils.data import DataLoader, sampler, random_split\n",
        "from torch import nn, optim\n",
        "from tqdm import tqdm\n",
        "from collections import defaultdict\n",
        "from sklearn.metrics import confusion_matrix, classification_report"
      ],
      "metadata": {
        "id": "1UEIZOIIYx2m"
      },
      "execution_count": 2,
      "outputs": []
    },
    {
      "cell_type": "code",
      "source": [
        "start = time.time()"
      ],
      "metadata": {
        "id": "pupH5fzg-jen"
      },
      "execution_count": 3,
      "outputs": []
    },
    {
      "cell_type": "markdown",
      "metadata": {
        "id": "9P8t7zYlDk0_"
      },
      "source": [
        "## Dataset Cervical Cancer"
      ]
    },
    {
      "cell_type": "code",
      "source": [
        "!git clone https://github.com/dunasi4139/Cervical-Cancer-EfficientNetV2.git"
      ],
      "metadata": {
        "id": "XO4b4KJKCqIp",
        "colab": {
          "base_uri": "https://localhost:8080/"
        },
        "outputId": "42702610-1e57-4e23-f83c-1c7268e9d093"
      },
      "execution_count": 4,
      "outputs": [
        {
          "output_type": "stream",
          "name": "stdout",
          "text": [
            "Cloning into 'Cervical-Cancer-EfficientNetV2'...\n",
            "remote: Enumerating objects: 5011, done.\u001b[K\n",
            "remote: Counting objects: 100% (3/3), done.\u001b[K\n",
            "remote: Compressing objects: 100% (2/2), done.\u001b[K\n",
            "remote: Total 5011 (delta 0), reused 3 (delta 0), pack-reused 5008\u001b[K\n",
            "Receiving objects: 100% (5011/5011), 223.47 MiB | 42.45 MiB/s, done.\n",
            "Updating files: 100% (5001/5001), done.\n"
          ]
        }
      ]
    },
    {
      "cell_type": "code",
      "source": [
        "base_dir = '/content/Cervical-Cancer-EfficientNetV2/dataset'\n",
        "data_dir = os.path.join(base_dir)"
      ],
      "metadata": {
        "id": "gPiGrohqsHu8"
      },
      "execution_count": 5,
      "outputs": []
    },
    {
      "cell_type": "code",
      "source": [
        "os.listdir(data_dir)"
      ],
      "metadata": {
        "id": "ANz1zWmB80TJ",
        "colab": {
          "base_uri": "https://localhost:8080/"
        },
        "outputId": "f8bc4c61-f38c-4ce8-82ce-ea7d50761bd8"
      },
      "execution_count": 6,
      "outputs": [
        {
          "output_type": "execute_result",
          "data": {
            "text/plain": [
              "['cervix_dyk', 'cervix_pab', 'cervix_mep', 'cervix_koc', 'cervix_sfi']"
            ]
          },
          "metadata": {},
          "execution_count": 6
        }
      ]
    },
    {
      "cell_type": "code",
      "execution_count": 7,
      "metadata": {
        "execution": {
          "iopub.execute_input": "2022-02-08T01:16:45.078941Z",
          "iopub.status.busy": "2022-02-08T01:16:45.077829Z",
          "iopub.status.idle": "2022-02-08T01:16:45.080075Z",
          "shell.execute_reply": "2022-02-08T01:16:45.080673Z",
          "shell.execute_reply.started": "2022-02-02T23:52:50.669096Z"
        },
        "papermill": {
          "duration": 0.059903,
          "end_time": "2022-02-08T01:16:45.080874",
          "exception": false,
          "start_time": "2022-02-08T01:16:45.020971",
          "status": "completed"
        },
        "tags": [],
        "id": "51669144"
      },
      "outputs": [],
      "source": [
        "def get_data_loaders(data_dir, batch_size):\n",
        "    transform = transforms.Compose([\n",
        "      transforms.RandomHorizontalFlip(),\n",
        "      transforms.RandomVerticalFlip(),\n",
        "      transforms.Resize(256),\n",
        "      transforms.CenterCrop(224),\n",
        "      transforms.ToTensor(),\n",
        "      transforms.Normalize((0.488), (0.2172))\n",
        "    ])\n",
        "    dataset = datasets.ImageFolder(data_dir, transform=transform)\n",
        "    train_data_len = int(len(dataset)*0.6)\n",
        "    valid_data_len = int((len(dataset) - train_data_len)/2)\n",
        "    test_data_len = int(len(dataset) - train_data_len - valid_data_len)\n",
        "    train_data, val_data, test_data = random_split(dataset, [train_data_len, valid_data_len, test_data_len])\n",
        "    train_loader = DataLoader(train_data, batch_size=batch_size, shuffle=True, num_workers=4)\n",
        "    val_loader = DataLoader(val_data, batch_size=batch_size, shuffle=True, num_workers=4)\n",
        "    test_loader = DataLoader(test_data, batch_size=batch_size, shuffle=True, num_workers=4)\n",
        "\n",
        "    return (train_loader, val_loader, test_loader, train_data_len, valid_data_len, test_data_len, dataset)"
      ]
    },
    {
      "cell_type": "code",
      "execution_count": 8,
      "metadata": {
        "execution": {
          "iopub.execute_input": "2022-02-08T01:16:45.174863Z",
          "iopub.status.busy": "2022-02-08T01:16:45.173745Z",
          "iopub.status.idle": "2022-02-08T01:16:45.176478Z",
          "shell.execute_reply": "2022-02-08T01:16:45.177004Z",
          "shell.execute_reply.started": "2022-02-02T23:52:50.682504Z"
        },
        "papermill": {
          "duration": 0.052148,
          "end_time": "2022-02-08T01:16:45.177234",
          "exception": false,
          "start_time": "2022-02-08T01:16:45.125086",
          "status": "completed"
        },
        "tags": [],
        "id": "acb68a06"
      },
      "outputs": [],
      "source": [
        "def get_classes(data_dir):\n",
        "    dataset = datasets.ImageFolder(data_dir)\n",
        "    return dataset.classes"
      ]
    },
    {
      "cell_type": "code",
      "execution_count": 9,
      "metadata": {
        "execution": {
          "iopub.execute_input": "2022-02-08T01:16:45.268243Z",
          "iopub.status.busy": "2022-02-08T01:16:45.267295Z",
          "iopub.status.idle": "2022-02-08T01:16:48.107098Z",
          "shell.execute_reply": "2022-02-08T01:16:48.106483Z",
          "shell.execute_reply.started": "2022-02-02T23:52:50.695972Z"
        },
        "papermill": {
          "duration": 2.887998,
          "end_time": "2022-02-08T01:16:48.107266",
          "exception": false,
          "start_time": "2022-02-08T01:16:45.219268",
          "status": "completed"
        },
        "tags": [],
        "id": "d18b10fd",
        "colab": {
          "base_uri": "https://localhost:8080/"
        },
        "outputId": "e69baa72-2774-4957-e4af-7de8f0f2884e"
      },
      "outputs": [
        {
          "output_type": "stream",
          "name": "stderr",
          "text": [
            "/usr/local/lib/python3.10/dist-packages/torch/utils/data/dataloader.py:560: UserWarning: This DataLoader will create 4 worker processes in total. Our suggested max number of worker in current system is 2, which is smaller than what this DataLoader is going to create. Please be aware that excessive worker creation might get DataLoader running slow or even freeze, lower the worker number to avoid potential slowness/freeze if necessary.\n",
            "  warnings.warn(_create_warning_msg(\n"
          ]
        }
      ],
      "source": [
        "(train_loader, val_loader, test_loader, train_data_len, valid_data_len, test_data_len, dataset) = get_data_loaders(data_dir, 64)\n",
        "classes = get_classes(data_dir)"
      ]
    },
    {
      "cell_type": "code",
      "execution_count": 10,
      "metadata": {
        "execution": {
          "iopub.execute_input": "2022-02-08T01:16:48.200174Z",
          "iopub.status.busy": "2022-02-08T01:16:48.199085Z",
          "iopub.status.idle": "2022-02-08T01:16:48.201312Z",
          "shell.execute_reply": "2022-02-08T01:16:48.201997Z",
          "shell.execute_reply.started": "2022-02-02T23:52:51.235388Z"
        },
        "papermill": {
          "duration": 0.05067,
          "end_time": "2022-02-08T01:16:48.202181",
          "exception": false,
          "start_time": "2022-02-08T01:16:48.151511",
          "status": "completed"
        },
        "tags": [],
        "id": "e11bac7f"
      },
      "outputs": [],
      "source": [
        "my_dataloaders = {\n",
        "    \"train\":train_loader,\n",
        "    \"val\": val_loader\n",
        "}\n",
        "my_dataset_sizes = {\n",
        "    \"train\":train_data_len,\n",
        "    \"val\": valid_data_len\n",
        "}"
      ]
    },
    {
      "cell_type": "code",
      "execution_count": 11,
      "metadata": {
        "execution": {
          "iopub.execute_input": "2022-02-08T01:16:48.295002Z",
          "iopub.status.busy": "2022-02-08T01:16:48.293493Z",
          "iopub.status.idle": "2022-02-08T01:16:48.298111Z",
          "shell.execute_reply": "2022-02-08T01:16:48.298891Z",
          "shell.execute_reply.started": "2022-02-02T23:52:51.241471Z"
        },
        "papermill": {
          "duration": 0.054172,
          "end_time": "2022-02-08T01:16:48.299112",
          "exception": false,
          "start_time": "2022-02-08T01:16:48.244940",
          "status": "completed"
        },
        "tags": [],
        "id": "7ea4fe45",
        "colab": {
          "base_uri": "https://localhost:8080/"
        },
        "outputId": "b50045a3-fd26-4100-a9c3-d192237e6251"
      },
      "outputs": [
        {
          "output_type": "stream",
          "name": "stdout",
          "text": [
            "47\n",
            "16\n",
            "16\n",
            "3000 1000 1000\n"
          ]
        }
      ],
      "source": [
        "print(len(train_loader))\n",
        "print(len(val_loader))\n",
        "print(len(test_loader))\n",
        "print(train_data_len, test_data_len, valid_data_len)"
      ]
    },
    {
      "cell_type": "code",
      "execution_count": 12,
      "metadata": {
        "execution": {
          "iopub.execute_input": "2022-02-08T01:16:48.392788Z",
          "iopub.status.busy": "2022-02-08T01:16:48.391658Z",
          "iopub.status.idle": "2022-02-08T01:16:48.394350Z",
          "shell.execute_reply": "2022-02-08T01:16:48.395059Z",
          "shell.execute_reply.started": "2022-02-02T23:52:51.253556Z"
        },
        "papermill": {
          "duration": 0.053406,
          "end_time": "2022-02-08T01:16:48.395254",
          "exception": false,
          "start_time": "2022-02-08T01:16:48.341848",
          "status": "completed"
        },
        "tags": [],
        "id": "c35e1da9"
      },
      "outputs": [],
      "source": [
        "torch.backends.cudnn.benchmark = True"
      ]
    },
    {
      "cell_type": "markdown",
      "source": [
        "## Perancangan Model Arsitektur EfficientNetV2"
      ],
      "metadata": {
        "id": "tlf-p0WsTlHK"
      }
    },
    {
      "cell_type": "code",
      "execution_count": 13,
      "metadata": {
        "execution": {
          "iopub.execute_input": "2022-02-08T01:16:48.497151Z",
          "iopub.status.busy": "2022-02-08T01:16:48.496044Z",
          "iopub.status.idle": "2022-02-08T01:16:48.499413Z",
          "shell.execute_reply": "2022-02-08T01:16:48.498886Z",
          "shell.execute_reply.started": "2022-02-02T23:52:51.260205Z"
        },
        "papermill": {
          "duration": 0.061782,
          "end_time": "2022-02-08T01:16:48.499569",
          "exception": false,
          "start_time": "2022-02-08T01:16:48.437787",
          "status": "completed"
        },
        "tags": [],
        "id": "c81bbec0"
      },
      "outputs": [],
      "source": [
        "KONFIGURASI_PARAMS = {\n",
        "    \"b0\": {\n",
        "        \"widths\": [32, 16, 32, 48, 96, 112, 192],\n",
        "        \"depths\": [1, 2, 2, 3, 5, 8],\n",
        "        \"strides\": [1, 2, 2, 2, 1, 2],\n",
        "        \"convs\": [0, 1, 1, 2, 3, 3],\n",
        "        \"output_conv_size\": 1280,\n",
        "        \"timm_weights\": \"tf_efficientnetv2_b0\",\n",
        "    },\n",
        "    \"b1\": {\n",
        "        \"widths\": [32, 16, 32, 48, 96, 112, 192],\n",
        "        \"depths\": [2, 3, 3, 4, 6, 9],\n",
        "        \"strides\": [1, 2, 2, 2, 1, 2],\n",
        "        \"convs\":[0, 1, 1, 2, 3, 3],\n",
        "        \"output_conv_size\": 1280,\n",
        "        \"timm_weights\":\"tf_efficientnetv2_b1\",\n",
        "    },\n",
        "    \"b2\": {\n",
        "        \"widths\": [32, 16, 32, 56, 104, 120, 208],\n",
        "        \"depths\": [2, 3, 3, 4, 6, 10],\n",
        "        \"strides\": [1, 2, 2, 2, 1, 2],\n",
        "        \"convs\": [0, 1, 1, 2, 3, 3],\n",
        "        \"output_conv_size\": 1408,\n",
        "        \"timm_weights\":\"tf_efficientnetv2_b2\",\n",
        "    },\n",
        "    \"small\": {\n",
        "        \"widths\": [24, 24, 48, 64, 128, 160, 256],\n",
        "        \"depths\": [2, 4, 4, 6, 9, 15],\n",
        "        \"strides\": [1, 2, 2, 2, 1, 2],\n",
        "        \"convs\": [0, 1, 1, 2, 3, 3],\n",
        "        \"output_conv_size\": 1280,\n",
        "        \"timm_weights\": \"tf_efficientnetv2_s\"\n",
        "    },\n",
        "    \"med\": {\n",
        "        \"widths\": [24, 24, 48, 80, 160, 176, 304, 512],\n",
        "        \"depths\": [3, 5, 5, 7, 14, 18, 5],\n",
        "        \"strides\": [1, 2, 2, 2, 1, 2, 1],\n",
        "        \"convs\": [0, 1, 1, 2, 3, 3, 3],\n",
        "        \"output_conv_size\": 1280,\n",
        "        \"timm_weights\":\"tf_efficientnetv2_m\",\n",
        "    },\n",
        "    \"large\": {\n",
        "        \"widths\": [32, 32, 64, 96, 192, 224, 384, 640],\n",
        "        \"depths\": [4, 7, 7, 10, 19, 25, 7],\n",
        "        \"strides\": [1, 2, 2, 2, 1, 2, 1],\n",
        "        \"convs\": [0, 1, 1, 2, 3, 3, 3],\n",
        "        \"output_conv_size\": 1280,\n",
        "        \"timm_weights\":\"tf_efficientnetv2_l\",\n",
        "    }\n",
        "}"
      ]
    },
    {
      "cell_type": "code",
      "execution_count": 14,
      "metadata": {
        "execution": {
          "iopub.execute_input": "2022-02-08T01:16:48.591074Z",
          "iopub.status.busy": "2022-02-08T01:16:48.589976Z",
          "iopub.status.idle": "2022-02-08T01:16:48.592366Z",
          "shell.execute_reply": "2022-02-08T01:16:48.592981Z",
          "shell.execute_reply.started": "2022-02-02T23:52:51.278907Z"
        },
        "papermill": {
          "duration": 0.051898,
          "end_time": "2022-02-08T01:16:48.593147",
          "exception": false,
          "start_time": "2022-02-08T01:16:48.541249",
          "status": "completed"
        },
        "tags": [],
        "id": "0ec8f6f8"
      },
      "outputs": [],
      "source": [
        "def conv_block(in_channels, out_channels, kernel_size=3,\n",
        "               stride=1, padding=1, groups=1,\n",
        "               bias=False, bn=True, act = True):\n",
        "    layers = [\n",
        "        nn.Conv2d(in_channels, out_channels, kernel_size, stride=stride,\n",
        "                  padding=padding, groups=groups, bias=bias),\n",
        "        nn.BatchNorm2d(out_channels) if bn else nn.Identity(),\n",
        "        nn.SiLU() if act else nn.Identity()\n",
        "    ]\n",
        "    return nn.Sequential(*layers)"
      ]
    },
    {
      "cell_type": "code",
      "execution_count": 15,
      "metadata": {
        "execution": {
          "iopub.execute_input": "2022-02-08T01:16:48.682532Z",
          "iopub.status.busy": "2022-02-08T01:16:48.681411Z",
          "iopub.status.idle": "2022-02-08T01:16:48.690032Z",
          "shell.execute_reply": "2022-02-08T01:16:48.689406Z",
          "shell.execute_reply.started": "2022-02-02T23:52:51.2893Z"
        },
        "papermill": {
          "duration": 0.054812,
          "end_time": "2022-02-08T01:16:48.690186",
          "exception": false,
          "start_time": "2022-02-08T01:16:48.635374",
          "status": "completed"
        },
        "tags": [],
        "id": "8bc7b68e"
      },
      "outputs": [],
      "source": [
        "class SEBlock(nn.Module):\n",
        "    def __init__(self, c, r=24):\n",
        "        super(SEBlock, self).__init__()\n",
        "        self.squeeze = nn.AdaptiveMaxPool2d(1)\n",
        "        self.excitation = nn.Sequential(\n",
        "            nn.Conv2d(c, c // r, kernel_size=1),\n",
        "            nn.SiLU(),\n",
        "            nn.Conv2d(c // r, c, kernel_size=1),\n",
        "            nn.Sigmoid()\n",
        "        )\n",
        "    def forward(self, x):\n",
        "        s = self.squeeze(x)\n",
        "        e = self.excitation(s)\n",
        "        return x * e"
      ]
    },
    {
      "cell_type": "code",
      "execution_count": 16,
      "metadata": {
        "execution": {
          "iopub.execute_input": "2022-02-08T01:16:48.786967Z",
          "iopub.status.busy": "2022-02-08T01:16:48.785817Z",
          "iopub.status.idle": "2022-02-08T01:16:48.788233Z",
          "shell.execute_reply": "2022-02-08T01:16:48.788847Z",
          "shell.execute_reply.started": "2022-02-02T23:52:51.300554Z"
        },
        "papermill": {
          "duration": 0.055818,
          "end_time": "2022-02-08T01:16:48.789012",
          "exception": false,
          "start_time": "2022-02-08T01:16:48.733194",
          "status": "completed"
        },
        "tags": [],
        "id": "61568492"
      },
      "outputs": [],
      "source": [
        "class MBConv(nn.Module):\n",
        "    def __init__(self, n_in, n_out, expansion, kernel_size=3, stride=1, r=24, dropout=0.1):\n",
        "        super(MBConv, self).__init__()\n",
        "        self.skip_connection = (n_in == n_out) and (stride == 1)\n",
        "\n",
        "        padding = (kernel_size-1)//2\n",
        "        expanded = expansion*n_in\n",
        "\n",
        "        self.expand_pw = nn.Identity() if expansion == 1 else conv_block(n_in, expanded, kernel_size=1, padding=0)\n",
        "        self.depthwise = conv_block(expanded, expanded, kernel_size=kernel_size,\n",
        "                                    stride=stride, padding=padding, groups=expanded)\n",
        "        self.se = SEBlock(expanded, r=4 * expansion)\n",
        "        self.reduce_pw = conv_block(expanded, n_out, kernel_size=1, padding=0, act=False)\n",
        "        self.dropout = nn.Dropout(dropout)\n",
        "\n",
        "    def forward(self, x):\n",
        "        residual = x\n",
        "        x = self.expand_pw(x)\n",
        "        x = self.depthwise(x)\n",
        "        x = self.se(x)\n",
        "        x = self.reduce_pw(x)\n",
        "        if self.skip_connection:\n",
        "            x = self.dropout(x)\n",
        "            x = x + residual\n",
        "        return x"
      ]
    },
    {
      "cell_type": "code",
      "execution_count": 17,
      "metadata": {
        "execution": {
          "iopub.execute_input": "2022-02-08T01:16:48.885598Z",
          "iopub.status.busy": "2022-02-08T01:16:48.884438Z",
          "iopub.status.idle": "2022-02-08T01:16:48.887301Z",
          "shell.execute_reply": "2022-02-08T01:16:48.887848Z",
          "shell.execute_reply.started": "2022-02-02T23:52:51.314658Z"
        },
        "papermill": {
          "duration": 0.057013,
          "end_time": "2022-02-08T01:16:48.888024",
          "exception": false,
          "start_time": "2022-02-08T01:16:48.831011",
          "status": "completed"
        },
        "tags": [],
        "id": "e4e679e0"
      },
      "outputs": [],
      "source": [
        "class FusedMBConv(nn.Module):\n",
        "    def __init__(self, n_in, n_out, expansion, kernel_size=3, stride=1, r=24, dropout=0.1):\n",
        "        super(FusedMBConv, self).__init__()\n",
        "        self.skip_connection = (n_in == n_out) and (stride == 1)\n",
        "        padding = (kernel_size-1)//2\n",
        "        expanded = expansion*n_in\n",
        "\n",
        "        self.expand_pw = conv_block(n_in, expanded, kernel_size=3, stride=stride, padding=1)\n",
        "        self.reduce_pw = conv_block(expanded, n_out, kernel_size=1, padding=0, act=False)\n",
        "\n",
        "        if expansion == 1:\n",
        "            self.reduce_pw = nn.Identity() # for consistency with timm implementation\n",
        "            self.expand_pw = conv_block(n_in, n_out, kernel_size=3, stride=stride, padding=1)\n",
        "        self.dropout = nn.Dropout(dropout)\n",
        "\n",
        "    def forward(self, x):\n",
        "        residual = x\n",
        "        x = self.expand_pw(x)\n",
        "        x = self.reduce_pw(x)\n",
        "        if self.skip_connection:\n",
        "            x = self.dropout(x)\n",
        "            x = x + residual\n",
        "        return x"
      ]
    },
    {
      "cell_type": "code",
      "execution_count": 18,
      "metadata": {
        "execution": {
          "iopub.execute_input": "2022-02-08T01:16:48.985362Z",
          "iopub.status.busy": "2022-02-08T01:16:48.978705Z",
          "iopub.status.idle": "2022-02-08T01:16:48.988631Z",
          "shell.execute_reply": "2022-02-08T01:16:48.987995Z",
          "shell.execute_reply.started": "2022-02-02T23:52:51.325962Z"
        },
        "papermill": {
          "duration": 0.057452,
          "end_time": "2022-02-08T01:16:48.988783",
          "exception": false,
          "start_time": "2022-02-08T01:16:48.931331",
          "status": "completed"
        },
        "tags": [],
        "id": "bc30a85f"
      },
      "outputs": [],
      "source": [
        "def mbconv4(n_in, n_out, kernel_size=3, stride=1, r=24, dropout=0.1):\n",
        "    return MBConv(n_in, n_out, 4, kernel_size=kernel_size, stride=stride, r=r, dropout=dropout)\n",
        "def mbconv6(n_in, n_out, kernel_size=3, stride=1, r=24, dropout=0.1):\n",
        "    return MBConv(n_in, n_out, 6, kernel_size=kernel_size, stride=stride, r=r, dropout=dropout)\n",
        "def fused_mbconv1(n_in, n_out, kernel_size=3, stride=1, r=24, dropout=0.1):\n",
        "    return FusedMBConv(n_in, n_out, 1, kernel_size=kernel_size, stride=stride, r=r, dropout=dropout)\n",
        "def fused_mbconv4(n_in, n_out, kernel_size=3, stride=1, r=24, dropout=0.1):\n",
        "    return FusedMBConv(n_in, n_out, 4, kernel_size=kernel_size, stride=stride, r=r, dropout=dropout)\n",
        "layers_map = [fused_mbconv1, fused_mbconv4, mbconv4, mbconv6]"
      ]
    },
    {
      "cell_type": "code",
      "execution_count": 19,
      "metadata": {
        "execution": {
          "iopub.execute_input": "2022-02-08T01:16:49.088408Z",
          "iopub.status.busy": "2022-02-08T01:16:49.087261Z",
          "iopub.status.idle": "2022-02-08T01:16:49.089610Z",
          "shell.execute_reply": "2022-02-08T01:16:49.090264Z",
          "shell.execute_reply.started": "2022-02-02T23:52:52.224409Z"
        },
        "papermill": {
          "duration": 0.054587,
          "end_time": "2022-02-08T01:16:49.090418",
          "exception": false,
          "start_time": "2022-02-08T01:16:49.035831",
          "status": "completed"
        },
        "tags": [],
        "id": "4be38e59"
      },
      "outputs": [],
      "source": [
        "def create_stage(n_in, n_out, num_layers, layer=mbconv6,\n",
        "                 kernel_size=3, stride=1, r=24, ps=0):\n",
        "    layers = [layer(n_in, n_out, kernel_size=kernel_size,\n",
        "                       stride=stride, r=r, dropout=ps)]\n",
        "    layers += [layer(n_out, n_out, kernel_size=kernel_size,\n",
        "                        r=r, dropout=ps) for _ in range(num_layers-1)]\n",
        "    return nn.Sequential(*layers)"
      ]
    },
    {
      "cell_type": "code",
      "execution_count": 20,
      "metadata": {
        "execution": {
          "iopub.execute_input": "2022-02-08T01:16:49.190691Z",
          "iopub.status.busy": "2022-02-08T01:16:49.189704Z",
          "iopub.status.idle": "2022-02-08T01:16:49.192417Z",
          "shell.execute_reply": "2022-02-08T01:16:49.192995Z",
          "shell.execute_reply.started": "2022-02-02T23:55:52.023781Z"
        },
        "papermill": {
          "duration": 0.058812,
          "end_time": "2022-02-08T01:16:49.193159",
          "exception": false,
          "start_time": "2022-02-08T01:16:49.134347",
          "status": "completed"
        },
        "tags": [],
        "id": "5aea1e17"
      },
      "outputs": [],
      "source": [
        "class EfficientNetV2(nn.Module):\n",
        "    def __init__(self, cfg, n_classes=1000):\n",
        "        super(EfficientNetV2, self).__init__()\n",
        "        self.cfg = cfg\n",
        "        self.n_classes = n_classes\n",
        "        widths, depths, strides, convs = cfg['widths'],cfg['depths'],cfg['strides'],cfg['convs']\n",
        "        outconv_size = cfg['output_conv_size']\n",
        "\n",
        "        stages = [conv_block(3, widths[0], stride=2, padding=1)]\n",
        "        for i in range(len(depths)):\n",
        "            stages.append(create_stage(widths[i], widths[i + 1], depths[i], layer=layers_map[convs[i]],\n",
        "                        stride=strides[i], r=4 if i ==0 else 24, ps=0))\n",
        "\n",
        "        self.features = nn.Sequential(*stages)\n",
        "        self.pre = conv_block(widths[-1], outconv_size, kernel_size=1, padding=0)\n",
        "        self.pool_flatten = nn.Sequential(nn.AdaptiveAvgPool2d(1), nn.Flatten())\n",
        "        self.head = nn.Sequential(\n",
        "            nn.Linear(outconv_size, n_classes)\n",
        "        )\n",
        "\n",
        "    def forward(self, x):\n",
        "        x = self.features(x)\n",
        "        x = self.pre(x)\n",
        "        x = self.pool_flatten(x)\n",
        "        x = self.head(x)\n",
        "        return x"
      ]
    },
    {
      "cell_type": "code",
      "execution_count": 21,
      "metadata": {
        "execution": {
          "iopub.execute_input": "2022-02-08T01:16:49.288830Z",
          "iopub.status.busy": "2022-02-08T01:16:49.287656Z",
          "iopub.status.idle": "2022-02-08T01:16:49.290269Z",
          "shell.execute_reply": "2022-02-08T01:16:49.290911Z",
          "shell.execute_reply.started": "2022-02-02T23:55:52.136645Z"
        },
        "papermill": {
          "duration": 0.054713,
          "end_time": "2022-02-08T01:16:49.291086",
          "exception": false,
          "start_time": "2022-02-08T01:16:49.236373",
          "status": "completed"
        },
        "tags": [],
        "id": "4e5fee4e"
      },
      "outputs": [],
      "source": [
        "def efficientnetv2_b0(n_classes=1000):\n",
        "    return EfficientNetV2(KONFIGURASI_PARAMS['b0'], n_classes=n_classes)\n",
        "def efficientnetv2_b1(n_classes=1000):\n",
        "    return EfficientNetV2(KONFIGURASI_PARAMS['b1'], n_classes=n_classes)\n",
        "def efficientnetv2_b2(n_classes=1000):\n",
        "    return EfficientNetV2(KONFIGURASI_PARAMS['b2'], n_classes=n_classes)\n",
        "def efficientnetv2_small(n_classes=1000):\n",
        "    return EfficientNetV2(KONFIGURASI_PARAMS['small'], n_classes=n_classes)\n",
        "def efficientnetv2_med(n_classes=1000):\n",
        "    return EfficientNetV2(KONFIGURASI_PARAMS['med'], n_classes=n_classes)\n",
        "def efficientnetv2_large(n_classes=1000):\n",
        "    return EfficientNetV2(KONFIGURASI_PARAMS['large'], n_classes=n_classes)"
      ]
    },
    {
      "cell_type": "code",
      "execution_count": 22,
      "metadata": {
        "execution": {
          "iopub.execute_input": "2022-02-08T01:16:49.384934Z",
          "iopub.status.busy": "2022-02-08T01:16:49.383734Z",
          "iopub.status.idle": "2022-02-08T01:16:49.386048Z",
          "shell.execute_reply": "2022-02-08T01:16:49.386793Z",
          "shell.execute_reply.started": "2022-02-03T00:07:26.024746Z"
        },
        "papermill": {
          "duration": 0.053213,
          "end_time": "2022-02-08T01:16:49.386974",
          "exception": false,
          "start_time": "2022-02-08T01:16:49.333761",
          "status": "completed"
        },
        "tags": [],
        "id": "a260f3a5"
      },
      "outputs": [],
      "source": [
        "def load_timm_weights(model):\n",
        "    url = model.cfg.get(\"timm_weights\")\n",
        "    timm_model = timm.create_model(url, pretrained=True, num_classes=len(classes))\n",
        "    params = nn.utils.parameters_to_vector(timm_model.parameters())\n",
        "    nn.utils.vector_to_parameters(params, model.parameters())"
      ]
    },
    {
      "cell_type": "code",
      "execution_count": 23,
      "metadata": {
        "execution": {
          "iopub.execute_input": "2022-02-08T01:16:49.483491Z",
          "iopub.status.busy": "2022-02-08T01:16:49.482725Z",
          "iopub.status.idle": "2022-02-08T01:16:51.436600Z",
          "shell.execute_reply": "2022-02-08T01:16:51.435872Z",
          "shell.execute_reply.started": "2022-02-03T00:07:27.622736Z"
        },
        "papermill": {
          "duration": 2.00693,
          "end_time": "2022-02-08T01:16:51.436792",
          "exception": false,
          "start_time": "2022-02-08T01:16:49.429862",
          "status": "completed"
        },
        "tags": [],
        "id": "eb652ac4",
        "colab": {
          "base_uri": "https://localhost:8080/",
          "height": 77,
          "referenced_widgets": [
            "9fbdb5b8f2e84375aa46cc70301f32da",
            "efe3bc77e52c4491b547cd3bfd278f48",
            "4ceb1056bc8f49d1bf88375a992ce888",
            "4ec3dab1414d4b40bb02ae84a49b17dd",
            "d1014ea063cd4b17ad7e249cb6eaed45",
            "1fd4ec6deaf64b75a3d909299abcdeef",
            "e5a76c321a8c435983ce1deaa32de21e",
            "2025ac7435074fb9bc4db2bb0e66e551",
            "f7769d42b9844ab397e7a022be218ab1",
            "c061e5cc0c714740b0a53d19222772f8",
            "d8ad046182784886accedd26c6a0464c"
          ]
        },
        "outputId": "38c2c499-aefc-4831-b693-45a8e73c5350"
      },
      "outputs": [
        {
          "output_type": "display_data",
          "data": {
            "text/plain": [
              "Downloading model.safetensors:   0%|          | 0.00/86.5M [00:00<?, ?B/s]"
            ],
            "application/vnd.jupyter.widget-view+json": {
              "version_major": 2,
              "version_minor": 0,
              "model_id": "9fbdb5b8f2e84375aa46cc70301f32da"
            }
          },
          "metadata": {}
        }
      ],
      "source": [
        "model = efficientnetv2_small(n_classes=len(classes))\n",
        "load_timm_weights(model)"
      ]
    },
    {
      "cell_type": "code",
      "execution_count": 24,
      "metadata": {
        "execution": {
          "iopub.execute_input": "2022-02-08T01:16:51.975020Z",
          "iopub.status.busy": "2022-02-08T01:16:51.973847Z",
          "iopub.status.idle": "2022-02-08T01:16:51.976317Z",
          "shell.execute_reply": "2022-02-08T01:16:51.976992Z",
          "shell.execute_reply.started": "2022-02-03T00:07:38.669542Z"
        },
        "papermill": {
          "duration": 0.054149,
          "end_time": "2022-02-08T01:16:51.977153",
          "exception": false,
          "start_time": "2022-02-08T01:16:51.923004",
          "status": "completed"
        },
        "tags": [],
        "id": "a93c48dd"
      },
      "outputs": [],
      "source": [
        "# def print_size_of_model(model):\n",
        "#     torch.save(model.state_dict(), \"temp.p\")\n",
        "#     print('Size (MB):', os.path.getsize(\"temp.p\")/1e6)\n",
        "#     os.remove('temp.p')"
      ]
    },
    {
      "cell_type": "code",
      "execution_count": 25,
      "metadata": {
        "execution": {
          "iopub.execute_input": "2022-02-08T01:16:52.072181Z",
          "iopub.status.busy": "2022-02-08T01:16:52.071155Z",
          "iopub.status.idle": "2022-02-08T01:16:52.151658Z",
          "shell.execute_reply": "2022-02-08T01:16:52.152225Z",
          "shell.execute_reply.started": "2022-02-03T00:07:38.854351Z"
        },
        "papermill": {
          "duration": 0.130874,
          "end_time": "2022-02-08T01:16:52.152405",
          "exception": false,
          "start_time": "2022-02-08T01:16:52.021531",
          "status": "completed"
        },
        "tags": [],
        "id": "45e35efc"
      },
      "outputs": [],
      "source": [
        "# print_size_of_model(model)"
      ]
    },
    {
      "cell_type": "markdown",
      "source": [
        "## Training Data"
      ],
      "metadata": {
        "id": "8PuQKv1JUCqM"
      }
    },
    {
      "cell_type": "code",
      "execution_count": 26,
      "metadata": {
        "execution": {
          "iopub.execute_input": "2022-02-08T01:16:52.292576Z",
          "iopub.status.busy": "2022-02-08T01:16:52.244825Z",
          "iopub.status.idle": "2022-02-08T01:16:55.623494Z",
          "shell.execute_reply": "2022-02-08T01:16:55.622911Z",
          "shell.execute_reply.started": "2022-02-03T00:07:40.723601Z"
        },
        "papermill": {
          "duration": 3.426002,
          "end_time": "2022-02-08T01:16:55.623659",
          "exception": false,
          "start_time": "2022-02-08T01:16:52.197657",
          "status": "completed"
        },
        "tags": [],
        "id": "c3b88ecc",
        "colab": {
          "base_uri": "https://localhost:8080/"
        },
        "outputId": "33e551d5-4476-4822-ba33-88cc04a79954"
      },
      "outputs": [
        {
          "output_type": "execute_result",
          "data": {
            "text/plain": [
              "device(type='cuda', index=0)"
            ]
          },
          "metadata": {},
          "execution_count": 26
        }
      ],
      "source": [
        "my_device = torch.device(\"cuda:0\" if torch.cuda.is_available() else \"cpu\")\n",
        "my_model = model.to(my_device)\n",
        "my_device"
      ]
    },
    {
      "cell_type": "code",
      "execution_count": 27,
      "metadata": {
        "execution": {
          "iopub.execute_input": "2022-02-08T01:16:55.718460Z",
          "iopub.status.busy": "2022-02-08T01:16:55.717280Z",
          "iopub.status.idle": "2022-02-08T01:16:55.720764Z",
          "shell.execute_reply": "2022-02-08T01:16:55.720169Z",
          "shell.execute_reply.started": "2022-02-03T00:07:42.128352Z"
        },
        "papermill": {
          "duration": 0.053267,
          "end_time": "2022-02-08T01:16:55.720921",
          "exception": false,
          "start_time": "2022-02-08T01:16:55.667654",
          "status": "completed"
        },
        "tags": [],
        "id": "530c607d"
      },
      "outputs": [],
      "source": [
        "criterion = nn.CrossEntropyLoss()\n",
        "criterion = criterion.to(my_device)\n",
        "optimizer = optim.AdamW(model.head.parameters(), lr=0.001)"
      ]
    },
    {
      "cell_type": "code",
      "execution_count": 28,
      "metadata": {
        "execution": {
          "iopub.execute_input": "2022-02-08T01:16:55.814236Z",
          "iopub.status.busy": "2022-02-08T01:16:55.813120Z",
          "iopub.status.idle": "2022-02-08T01:16:55.819072Z",
          "shell.execute_reply": "2022-02-08T01:16:55.818458Z",
          "shell.execute_reply.started": "2022-02-03T00:07:42.979524Z"
        },
        "papermill": {
          "duration": 0.054149,
          "end_time": "2022-02-08T01:16:55.819230",
          "exception": false,
          "start_time": "2022-02-08T01:16:55.765081",
          "status": "completed"
        },
        "tags": [],
        "id": "577604e1"
      },
      "outputs": [],
      "source": [
        "my_training_history = {'akurasi':[],'loss':[]}\n",
        "my_validation_history = {'akurasi':[],'loss':[]}"
      ]
    },
    {
      "cell_type": "code",
      "execution_count": 29,
      "metadata": {
        "execution": {
          "iopub.execute_input": "2022-02-08T01:16:56.017510Z",
          "iopub.status.busy": "2022-02-08T01:16:56.015293Z",
          "iopub.status.idle": "2022-02-08T01:16:56.026087Z",
          "shell.execute_reply": "2022-02-08T01:16:56.027821Z",
          "shell.execute_reply.started": "2022-02-03T00:07:43.269018Z"
        },
        "papermill": {
          "duration": 0.066456,
          "end_time": "2022-02-08T01:16:56.028052",
          "exception": false,
          "start_time": "2022-02-08T01:16:55.961596",
          "status": "completed"
        },
        "tags": [],
        "id": "0cd2a1b3"
      },
      "outputs": [],
      "source": [
        "exp_lr_scheduler = optim.lr_scheduler.StepLR(optimizer, step_size=3, gamma=0.97)"
      ]
    },
    {
      "cell_type": "code",
      "source": [
        "def training_model(my_model, my_criterion, my_optimizer, my_scheduler, my_num_epochs=25):\n",
        "    best_model_wts = copy.deepcopy(my_model.state_dict())\n",
        "    akurasi_terbaik = 0.0\n",
        "    epoch_terbaik = 0\n",
        "\n",
        "    for my_epoch in range(my_num_epochs):\n",
        "        print('Epoch {}/{}'.format(my_epoch+1, my_num_epochs))\n",
        "        print('_' * 50)\n",
        "\n",
        "        for my_phase in ['train', 'val']:\n",
        "            if my_phase == 'train':\n",
        "                my_model.train()\n",
        "            else:\n",
        "                my_model.eval()\n",
        "\n",
        "            running_loss = 0.0\n",
        "            running_corrects = 0\n",
        "\n",
        "            for my_inputs, my_labels in tqdm(my_dataloaders[my_phase]):\n",
        "                my_inputs = my_inputs.to(my_device)\n",
        "                my_labels = my_labels.to(my_device)\n",
        "\n",
        "                my_optimizer.zero_grad()\n",
        "\n",
        "                with torch.set_grad_enabled(my_phase == 'train'):\n",
        "                    my_outputs = my_model(my_inputs)\n",
        "                    _, my_preds = torch.max(my_outputs, 1)\n",
        "                    my_loss = my_criterion(my_outputs, my_labels)\n",
        "\n",
        "                    if my_phase == 'train':\n",
        "                        my_loss.backward()\n",
        "                        my_optimizer.step()\n",
        "\n",
        "                running_loss += my_loss.item() * my_inputs.size(0)\n",
        "                running_corrects += torch.sum(my_preds == my_labels.data)\n",
        "            if my_phase == 'train':\n",
        "                my_scheduler.step()\n",
        "\n",
        "            epoch_loss = running_loss / my_dataset_sizes[my_phase]\n",
        "            epoch_akurasi = running_corrects.double() / my_dataset_sizes[my_phase]\n",
        "\n",
        "            if my_phase == 'train':\n",
        "                my_training_history['akurasi'].append(epoch_akurasi)\n",
        "                my_training_history['loss'].append(epoch_loss)\n",
        "            elif my_phase == 'val':\n",
        "                my_validation_history['akurasi'].append(epoch_akurasi)\n",
        "                my_validation_history['loss'].append(epoch_loss)\n",
        "\n",
        "            print('{} Loss: {:.4f} Akurasi: {:.4f}'.format(\n",
        "                my_phase, epoch_loss, epoch_akurasi))\n",
        "\n",
        "            if my_phase == 'val' and epoch_akurasi > akurasi_terbaik:\n",
        "                akurasi_terbaik = epoch_akurasi\n",
        "                epoch_terbaik = my_epoch+1\n",
        "                best_model_wts = copy.deepcopy(my_model.state_dict())\n",
        "\n",
        "        print()\n",
        "\n",
        "    print('Akurasi Terbaik: {:4f}'.format(akurasi_terbaik))\n",
        "    print('Epoch Terbaik: {:4f}'.format(epoch_terbaik))\n",
        "\n",
        "    my_model.load_state_dict(best_model_wts)\n",
        "    return my_model, my_training_history, my_validation_history"
      ],
      "metadata": {
        "id": "sD8TxjinbBYR"
      },
      "execution_count": 30,
      "outputs": []
    },
    {
      "cell_type": "code",
      "execution_count": 31,
      "metadata": {
        "execution": {
          "iopub.execute_input": "2022-02-08T01:16:56.126641Z",
          "iopub.status.busy": "2022-02-08T01:16:56.125457Z",
          "iopub.status.idle": "2022-02-08T01:16:56.136624Z",
          "shell.execute_reply": "2022-02-08T01:16:56.136042Z",
          "shell.execute_reply.started": "2022-02-03T00:07:44.933931Z"
        },
        "papermill": {
          "duration": 0.06408,
          "end_time": "2022-02-08T01:16:56.136773",
          "exception": false,
          "start_time": "2022-02-08T01:16:56.072693",
          "status": "completed"
        },
        "tags": [],
        "id": "72dbe502"
      },
      "outputs": [],
      "source": [
        "# def training_model(model, criterion, optimizer, scheduler, num_epochs=25):\n",
        "#     best_model_wts = copy.deepcopy(model.state_dict())\n",
        "#     best_acc = 0.0\n",
        "\n",
        "#     for epoch in range(num_epochs):\n",
        "#         print('Epoch {}/{}'.format(epoch+1, num_epochs))\n",
        "#         print('_' * 30)\n",
        "\n",
        "#         for phase in ['train', 'val']:\n",
        "#             if phase == 'train':\n",
        "#                 model.train()\n",
        "#             else:\n",
        "#                 model.eval()\n",
        "\n",
        "#             running_loss = 0.0\n",
        "#             running_corrects = 0\n",
        "\n",
        "#             for inputs, labels in tqdm(dataloaders[phase]):\n",
        "#                 inputs = inputs.to(device)\n",
        "#                 labels = labels.to(device)\n",
        "\n",
        "#                 optimizer.zero_grad()\n",
        "\n",
        "#                 with torch.set_grad_enabled(phase == 'train'):\n",
        "#                     outputs = model(inputs)\n",
        "#                     _, preds = torch.max(outputs, 1)\n",
        "#                     loss = criterion(outputs, labels)\n",
        "\n",
        "#                     if phase == 'train':\n",
        "#                         loss.backward()\n",
        "#                         optimizer.step()\n",
        "\n",
        "#                 running_loss += loss.item() * inputs.size(0)\n",
        "#                 running_corrects += torch.sum(preds == labels.data)\n",
        "#             if phase == 'train':\n",
        "#                 scheduler.step()\n",
        "\n",
        "#             epoch_loss = running_loss / dataset_sizes[phase]\n",
        "#             epoch_acc = running_corrects.double() / dataset_sizes[phase]\n",
        "\n",
        "#             if phase == 'train':\n",
        "#                 training_history['accuracy'].append(epoch_acc)\n",
        "#                 training_history['loss'].append(epoch_loss)\n",
        "#             elif phase == 'val':\n",
        "#                 validation_history['accuracy'].append(epoch_acc)\n",
        "#                 validation_history['loss'].append(epoch_loss)\n",
        "\n",
        "#             print('{} Loss: {:.4f} Acc: {:.4f}'.format(\n",
        "#                 phase, epoch_loss, epoch_acc))\n",
        "\n",
        "#             if phase == 'val' and epoch_acc > best_acc:\n",
        "#                 best_acc = epoch_acc\n",
        "#                 best_model_wts = copy.deepcopy(model.state_dict())\n",
        "\n",
        "#         print()\n",
        "\n",
        "#     print('Best val Acc: {:4f}'.format(best_acc))\n",
        "\n",
        "#     model.load_state_dict(best_model_wts)\n",
        "#     return model, training_history, validation_history"
      ]
    },
    {
      "cell_type": "code",
      "execution_count": 32,
      "metadata": {
        "execution": {
          "iopub.execute_input": "2022-02-08T01:23:59.031937Z",
          "iopub.status.busy": "2022-02-08T01:23:59.030820Z",
          "iopub.status.idle": "2022-02-08T01:23:59.042040Z",
          "shell.execute_reply": "2022-02-08T01:23:59.043089Z"
        },
        "papermill": {
          "duration": 0.612826,
          "end_time": "2022-02-08T01:23:59.043359",
          "exception": false,
          "start_time": "2022-02-08T01:23:58.430533",
          "status": "completed"
        },
        "tags": [],
        "id": "720ffb31"
      },
      "outputs": [],
      "source": [
        "for param in my_model.parameters():\n",
        "    param.requires_grad = True\n",
        "optimizer = optim.AdamW(my_model.parameters(), lr=0.00015)\n",
        "exp_lr_scheduler = optim.lr_scheduler.StepLR(optimizer, step_size=3, gamma=0.97)"
      ]
    },
    {
      "cell_type": "code",
      "execution_count": null,
      "metadata": {
        "execution": {
          "iopub.execute_input": "2022-02-08T01:24:00.523608Z",
          "iopub.status.busy": "2022-02-08T01:24:00.522528Z",
          "iopub.status.idle": "2022-02-08T01:28:42.023141Z",
          "shell.execute_reply": "2022-02-08T01:28:42.023728Z",
          "shell.execute_reply.started": "2022-02-03T00:04:04.18333Z"
        },
        "papermill": {
          "duration": 282.091647,
          "end_time": "2022-02-08T01:28:42.023923",
          "exception": false,
          "start_time": "2022-02-08T01:23:59.932276",
          "status": "completed"
        },
        "tags": [],
        "id": "705c6c59",
        "outputId": "0acfc52c-9cc7-4f67-d059-9c07a72bb071",
        "colab": {
          "base_uri": "https://localhost:8080/"
        }
      },
      "outputs": [
        {
          "output_type": "stream",
          "name": "stdout",
          "text": [
            "Epoch 1/30\n",
            "__________________________________________________\n"
          ]
        },
        {
          "output_type": "stream",
          "name": "stderr",
          "text": [
            "100%|██████████| 47/47 [00:52<00:00,  1.11s/it]\n"
          ]
        },
        {
          "output_type": "stream",
          "name": "stdout",
          "text": [
            "train Loss: 1.1044 Akurasi: 0.7520\n"
          ]
        },
        {
          "output_type": "stream",
          "name": "stderr",
          "text": [
            "100%|██████████| 16/16 [00:09<00:00,  1.62it/s]\n"
          ]
        },
        {
          "output_type": "stream",
          "name": "stdout",
          "text": [
            "val Loss: 7.9171 Akurasi: 0.4980\n",
            "\n",
            "Epoch 2/30\n",
            "__________________________________________________\n"
          ]
        },
        {
          "output_type": "stream",
          "name": "stderr",
          "text": [
            "100%|██████████| 47/47 [00:34<00:00,  1.35it/s]\n"
          ]
        },
        {
          "output_type": "stream",
          "name": "stdout",
          "text": [
            "train Loss: 0.1610 Akurasi: 0.9440\n"
          ]
        },
        {
          "output_type": "stream",
          "name": "stderr",
          "text": [
            "100%|██████████| 16/16 [00:07<00:00,  2.11it/s]\n"
          ]
        },
        {
          "output_type": "stream",
          "name": "stdout",
          "text": [
            "val Loss: 0.1706 Akurasi: 0.9490\n",
            "\n",
            "Epoch 3/30\n",
            "__________________________________________________\n"
          ]
        },
        {
          "output_type": "stream",
          "name": "stderr",
          "text": [
            "100%|██████████| 47/47 [00:36<00:00,  1.30it/s]\n"
          ]
        },
        {
          "output_type": "stream",
          "name": "stdout",
          "text": [
            "train Loss: 0.0905 Akurasi: 0.9693\n"
          ]
        },
        {
          "output_type": "stream",
          "name": "stderr",
          "text": [
            "100%|██████████| 16/16 [00:08<00:00,  1.94it/s]\n"
          ]
        },
        {
          "output_type": "stream",
          "name": "stdout",
          "text": [
            "val Loss: 0.0969 Akurasi: 0.9610\n",
            "\n",
            "Epoch 4/30\n",
            "__________________________________________________\n"
          ]
        },
        {
          "output_type": "stream",
          "name": "stderr",
          "text": [
            "100%|██████████| 47/47 [00:36<00:00,  1.30it/s]\n"
          ]
        },
        {
          "output_type": "stream",
          "name": "stdout",
          "text": [
            "train Loss: 0.0530 Akurasi: 0.9820\n"
          ]
        },
        {
          "output_type": "stream",
          "name": "stderr",
          "text": [
            "100%|██████████| 16/16 [00:08<00:00,  1.78it/s]\n"
          ]
        },
        {
          "output_type": "stream",
          "name": "stdout",
          "text": [
            "val Loss: 0.0644 Akurasi: 0.9760\n",
            "\n",
            "Epoch 5/30\n",
            "__________________________________________________\n"
          ]
        },
        {
          "output_type": "stream",
          "name": "stderr",
          "text": [
            "100%|██████████| 47/47 [00:36<00:00,  1.31it/s]\n"
          ]
        },
        {
          "output_type": "stream",
          "name": "stdout",
          "text": [
            "train Loss: 0.0456 Akurasi: 0.9867\n"
          ]
        },
        {
          "output_type": "stream",
          "name": "stderr",
          "text": [
            "100%|██████████| 16/16 [00:08<00:00,  1.93it/s]\n"
          ]
        },
        {
          "output_type": "stream",
          "name": "stdout",
          "text": [
            "val Loss: 0.0662 Akurasi: 0.9770\n",
            "\n",
            "Epoch 6/30\n",
            "__________________________________________________\n"
          ]
        },
        {
          "output_type": "stream",
          "name": "stderr",
          "text": [
            "100%|██████████| 47/47 [00:35<00:00,  1.31it/s]\n"
          ]
        },
        {
          "output_type": "stream",
          "name": "stdout",
          "text": [
            "train Loss: 0.0332 Akurasi: 0.9880\n"
          ]
        },
        {
          "output_type": "stream",
          "name": "stderr",
          "text": [
            "100%|██████████| 16/16 [00:08<00:00,  1.92it/s]\n"
          ]
        },
        {
          "output_type": "stream",
          "name": "stdout",
          "text": [
            "val Loss: 0.0536 Akurasi: 0.9840\n",
            "\n",
            "Epoch 7/30\n",
            "__________________________________________________\n"
          ]
        },
        {
          "output_type": "stream",
          "name": "stderr",
          "text": [
            "100%|██████████| 47/47 [00:36<00:00,  1.29it/s]\n"
          ]
        },
        {
          "output_type": "stream",
          "name": "stdout",
          "text": [
            "train Loss: 0.0204 Akurasi: 0.9933\n"
          ]
        },
        {
          "output_type": "stream",
          "name": "stderr",
          "text": [
            "100%|██████████| 16/16 [00:09<00:00,  1.71it/s]\n"
          ]
        },
        {
          "output_type": "stream",
          "name": "stdout",
          "text": [
            "val Loss: 0.0314 Akurasi: 0.9900\n",
            "\n",
            "Epoch 8/30\n",
            "__________________________________________________\n"
          ]
        },
        {
          "output_type": "stream",
          "name": "stderr",
          "text": [
            "100%|██████████| 47/47 [00:35<00:00,  1.31it/s]\n"
          ]
        },
        {
          "output_type": "stream",
          "name": "stdout",
          "text": [
            "train Loss: 0.0157 Akurasi: 0.9950\n"
          ]
        },
        {
          "output_type": "stream",
          "name": "stderr",
          "text": [
            "100%|██████████| 16/16 [00:08<00:00,  1.84it/s]\n"
          ]
        },
        {
          "output_type": "stream",
          "name": "stdout",
          "text": [
            "val Loss: 0.0394 Akurasi: 0.9870\n",
            "\n",
            "Epoch 9/30\n",
            "__________________________________________________\n"
          ]
        },
        {
          "output_type": "stream",
          "name": "stderr",
          "text": [
            "100%|██████████| 47/47 [00:36<00:00,  1.30it/s]\n"
          ]
        },
        {
          "output_type": "stream",
          "name": "stdout",
          "text": [
            "train Loss: 0.0132 Akurasi: 0.9957\n"
          ]
        },
        {
          "output_type": "stream",
          "name": "stderr",
          "text": [
            "100%|██████████| 16/16 [00:08<00:00,  1.83it/s]\n"
          ]
        },
        {
          "output_type": "stream",
          "name": "stdout",
          "text": [
            "val Loss: 0.0439 Akurasi: 0.9780\n",
            "\n",
            "Epoch 10/30\n",
            "__________________________________________________\n"
          ]
        },
        {
          "output_type": "stream",
          "name": "stderr",
          "text": [
            "100%|██████████| 47/47 [00:36<00:00,  1.30it/s]\n"
          ]
        },
        {
          "output_type": "stream",
          "name": "stdout",
          "text": [
            "train Loss: 0.0138 Akurasi: 0.9957\n"
          ]
        },
        {
          "output_type": "stream",
          "name": "stderr",
          "text": [
            "100%|██████████| 16/16 [00:09<00:00,  1.66it/s]\n"
          ]
        },
        {
          "output_type": "stream",
          "name": "stdout",
          "text": [
            "val Loss: 0.0380 Akurasi: 0.9920\n",
            "\n",
            "Epoch 11/30\n",
            "__________________________________________________\n"
          ]
        },
        {
          "output_type": "stream",
          "name": "stderr",
          "text": [
            "100%|██████████| 47/47 [00:36<00:00,  1.30it/s]\n"
          ]
        },
        {
          "output_type": "stream",
          "name": "stdout",
          "text": [
            "train Loss: 0.0079 Akurasi: 0.9970\n"
          ]
        },
        {
          "output_type": "stream",
          "name": "stderr",
          "text": [
            "100%|██████████| 16/16 [00:08<00:00,  1.99it/s]\n"
          ]
        },
        {
          "output_type": "stream",
          "name": "stdout",
          "text": [
            "val Loss: 0.0284 Akurasi: 0.9920\n",
            "\n",
            "Epoch 12/30\n",
            "__________________________________________________\n"
          ]
        },
        {
          "output_type": "stream",
          "name": "stderr",
          "text": [
            "100%|██████████| 47/47 [00:35<00:00,  1.32it/s]\n"
          ]
        },
        {
          "output_type": "stream",
          "name": "stdout",
          "text": [
            "train Loss: 0.0123 Akurasi: 0.9957\n"
          ]
        },
        {
          "output_type": "stream",
          "name": "stderr",
          "text": [
            "100%|██████████| 16/16 [00:08<00:00,  1.91it/s]\n"
          ]
        },
        {
          "output_type": "stream",
          "name": "stdout",
          "text": [
            "val Loss: 0.0524 Akurasi: 0.9880\n",
            "\n",
            "Epoch 13/30\n",
            "__________________________________________________\n"
          ]
        },
        {
          "output_type": "stream",
          "name": "stderr",
          "text": [
            "100%|██████████| 47/47 [00:36<00:00,  1.29it/s]\n"
          ]
        },
        {
          "output_type": "stream",
          "name": "stdout",
          "text": [
            "train Loss: 0.0059 Akurasi: 0.9983\n"
          ]
        },
        {
          "output_type": "stream",
          "name": "stderr",
          "text": [
            "100%|██████████| 16/16 [00:09<00:00,  1.73it/s]\n"
          ]
        },
        {
          "output_type": "stream",
          "name": "stdout",
          "text": [
            "val Loss: 0.0298 Akurasi: 0.9900\n",
            "\n",
            "Epoch 14/30\n",
            "__________________________________________________\n"
          ]
        },
        {
          "output_type": "stream",
          "name": "stderr",
          "text": [
            "100%|██████████| 47/47 [00:35<00:00,  1.31it/s]\n"
          ]
        },
        {
          "output_type": "stream",
          "name": "stdout",
          "text": [
            "train Loss: 0.0064 Akurasi: 0.9970\n"
          ]
        },
        {
          "output_type": "stream",
          "name": "stderr",
          "text": [
            "100%|██████████| 16/16 [00:08<00:00,  1.95it/s]\n"
          ]
        },
        {
          "output_type": "stream",
          "name": "stdout",
          "text": [
            "val Loss: 0.0354 Akurasi: 0.9890\n",
            "\n",
            "Epoch 15/30\n",
            "__________________________________________________\n"
          ]
        },
        {
          "output_type": "stream",
          "name": "stderr",
          "text": [
            "100%|██████████| 47/47 [00:35<00:00,  1.32it/s]\n"
          ]
        },
        {
          "output_type": "stream",
          "name": "stdout",
          "text": [
            "train Loss: 0.0039 Akurasi: 0.9987\n"
          ]
        },
        {
          "output_type": "stream",
          "name": "stderr",
          "text": [
            "100%|██████████| 16/16 [00:08<00:00,  1.95it/s]\n"
          ]
        },
        {
          "output_type": "stream",
          "name": "stdout",
          "text": [
            "val Loss: 0.0395 Akurasi: 0.9880\n",
            "\n",
            "Epoch 16/30\n",
            "__________________________________________________\n"
          ]
        },
        {
          "output_type": "stream",
          "name": "stderr",
          "text": [
            "100%|██████████| 47/47 [00:36<00:00,  1.29it/s]\n"
          ]
        },
        {
          "output_type": "stream",
          "name": "stdout",
          "text": [
            "train Loss: 0.0038 Akurasi: 0.9990\n"
          ]
        },
        {
          "output_type": "stream",
          "name": "stderr",
          "text": [
            "100%|██████████| 16/16 [00:09<00:00,  1.68it/s]\n"
          ]
        },
        {
          "output_type": "stream",
          "name": "stdout",
          "text": [
            "val Loss: 0.0279 Akurasi: 0.9910\n",
            "\n",
            "Epoch 17/30\n",
            "__________________________________________________\n"
          ]
        },
        {
          "output_type": "stream",
          "name": "stderr",
          "text": [
            "100%|██████████| 47/47 [00:36<00:00,  1.30it/s]\n"
          ]
        },
        {
          "output_type": "stream",
          "name": "stdout",
          "text": [
            "train Loss: 0.0065 Akurasi: 0.9983\n"
          ]
        },
        {
          "output_type": "stream",
          "name": "stderr",
          "text": [
            "100%|██████████| 16/16 [00:08<00:00,  1.87it/s]\n"
          ]
        },
        {
          "output_type": "stream",
          "name": "stdout",
          "text": [
            "val Loss: 0.0373 Akurasi: 0.9910\n",
            "\n",
            "Epoch 18/30\n",
            "__________________________________________________\n"
          ]
        },
        {
          "output_type": "stream",
          "name": "stderr",
          "text": [
            "100%|██████████| 47/47 [00:36<00:00,  1.30it/s]\n"
          ]
        },
        {
          "output_type": "stream",
          "name": "stdout",
          "text": [
            "train Loss: 0.0040 Akurasi: 0.9990\n"
          ]
        },
        {
          "output_type": "stream",
          "name": "stderr",
          "text": [
            "100%|██████████| 16/16 [00:08<00:00,  1.93it/s]\n"
          ]
        },
        {
          "output_type": "stream",
          "name": "stdout",
          "text": [
            "val Loss: 0.0367 Akurasi: 0.9900\n",
            "\n",
            "Epoch 19/30\n",
            "__________________________________________________\n"
          ]
        },
        {
          "output_type": "stream",
          "name": "stderr",
          "text": [
            "100%|██████████| 47/47 [00:36<00:00,  1.30it/s]\n"
          ]
        },
        {
          "output_type": "stream",
          "name": "stdout",
          "text": [
            "train Loss: 0.0066 Akurasi: 0.9973\n"
          ]
        },
        {
          "output_type": "stream",
          "name": "stderr",
          "text": [
            "100%|██████████| 16/16 [00:09<00:00,  1.62it/s]\n"
          ]
        },
        {
          "output_type": "stream",
          "name": "stdout",
          "text": [
            "val Loss: 0.0399 Akurasi: 0.9890\n",
            "\n",
            "Epoch 20/30\n",
            "__________________________________________________\n"
          ]
        },
        {
          "output_type": "stream",
          "name": "stderr",
          "text": [
            "100%|██████████| 47/47 [00:37<00:00,  1.25it/s]\n"
          ]
        },
        {
          "output_type": "stream",
          "name": "stdout",
          "text": [
            "train Loss: 0.0066 Akurasi: 0.9967\n"
          ]
        },
        {
          "output_type": "stream",
          "name": "stderr",
          "text": [
            "100%|██████████| 16/16 [00:10<00:00,  1.59it/s]\n"
          ]
        },
        {
          "output_type": "stream",
          "name": "stdout",
          "text": [
            "val Loss: 0.0669 Akurasi: 0.9870\n",
            "\n",
            "Epoch 21/30\n",
            "__________________________________________________\n"
          ]
        },
        {
          "output_type": "stream",
          "name": "stderr",
          "text": [
            " 79%|███████▊  | 37/47 [00:32<00:07,  1.25it/s]"
          ]
        }
      ],
      "source": [
        "my_model_at, my_training_history, my_validation_history = training_model(my_model, criterion, optimizer, exp_lr_scheduler,\n",
        "                       my_num_epochs=30)"
      ]
    },
    {
      "cell_type": "markdown",
      "source": [
        "## Testing Data"
      ],
      "metadata": {
        "id": "GSmkS7oWUZga"
      }
    },
    {
      "cell_type": "code",
      "source": [
        "def testing_model(my_model):\n",
        "  test_loss = 0.0\n",
        "  kelas_correct = list(0. for i in range(len(classes)))\n",
        "  kelas_total = list(0. for i in range(len(classes)))\n",
        "\n",
        "  my_model.eval()\n",
        "\n",
        "  for data, target in tqdm(test_loader):\n",
        "      if torch.cuda.is_available():\n",
        "          data, target = data.cuda(), target.cuda()\n",
        "      with torch.no_grad():\n",
        "        output = my_model(data)\n",
        "        loss = criterion(output, target)\n",
        "      test_loss += loss.item()*data.size(0)\n",
        "      _, prediksi = torch.max(output, 1)\n",
        "      correct_ts = prediksi.eq(target.data.view_as(prediksi))\n",
        "      correct = np.squeeze(correct_ts.numpy()) if not torch.cuda.is_available() else np.squeeze(correct_ts.cpu().numpy())\n",
        "      if len(target) == 64:\n",
        "        for i in range(64):\n",
        "            label = target.data[i]\n",
        "            kelas_correct[label] += correct[i].item()\n",
        "            kelas_total[label] += 1\n",
        "\n",
        "  test_loss = test_loss/len(test_loader.dataset)\n",
        "  print('Testing Model Loss : {:.6f}\\n'.format(test_loss))\n",
        "\n",
        "  for i in range(len(classes)):\n",
        "      if kelas_total[i] > 0:\n",
        "          print('Akurasi Testing Model dari %5s: %2d%% (%2d/%2d)' % (\n",
        "              classes[i], 100 * kelas_correct[i] / kelas_total[i],\n",
        "              np.sum(kelas_correct[i]), np.sum(kelas_total[i])))\n",
        "      else:\n",
        "          print('Akurasi Testing Model dari %5s: Tidak Ada (tidak ada contoh latihan)' % (classes[i]))\n",
        "\n",
        "  print('\\nAkurasi Testing Model Total (Secara Keseluruhan): {:.4f} ({}/{})'.format(\n",
        "      100. * np.sum(kelas_correct) / np.sum(kelas_total),\n",
        "      np.sum(kelas_correct), np.sum(kelas_total)))\n"
      ],
      "metadata": {
        "id": "4TT-XST6hVpU"
      },
      "execution_count": null,
      "outputs": []
    },
    {
      "cell_type": "code",
      "execution_count": null,
      "metadata": {
        "execution": {
          "iopub.execute_input": "2022-02-08T01:16:56.241869Z",
          "iopub.status.busy": "2022-02-08T01:16:56.240723Z",
          "iopub.status.idle": "2022-02-08T01:16:56.244068Z",
          "shell.execute_reply": "2022-02-08T01:16:56.243517Z",
          "shell.execute_reply.started": "2022-02-03T00:07:45.78769Z"
        },
        "papermill": {
          "duration": 0.062187,
          "end_time": "2022-02-08T01:16:56.244224",
          "exception": false,
          "start_time": "2022-02-08T01:16:56.182037",
          "status": "completed"
        },
        "tags": [],
        "id": "e25d177d"
      },
      "outputs": [],
      "source": [
        "# def test(model):\n",
        "#   test_loss = 0.0\n",
        "#   class_correct = list(0. for i in range(len(classes)))\n",
        "#   class_total = list(0. for i in range(len(classes)))\n",
        "\n",
        "#   model.eval()\n",
        "\n",
        "#   for data, target in tqdm(test_loader):\n",
        "#       if torch.cuda.is_available():\n",
        "#           data, target = data.cuda(), target.cuda()\n",
        "#       with torch.no_grad():\n",
        "#         output = model(data)\n",
        "#         loss = criterion(output, target)\n",
        "#       test_loss += loss.item()*data.size(0)\n",
        "#       _, pred = torch.max(output, 1)\n",
        "#       correct_tensor = pred.eq(target.data.view_as(pred))\n",
        "#       correct = np.squeeze(correct_tensor.numpy()) if not torch.cuda.is_available() else np.squeeze(correct_tensor.cpu().numpy())\n",
        "#       if len(target) == 64:\n",
        "#         for i in range(64):\n",
        "#             label = target.data[i]\n",
        "#             class_correct[label] += correct[i].item()\n",
        "#             class_total[label] += 1\n",
        "\n",
        "#   test_loss = test_loss/len(test_loader.dataset)\n",
        "#   print('Test Loss: {:.6f}\\n'.format(test_loss))\n",
        "\n",
        "#   for i in range(len(classes)):\n",
        "#       if class_total[i] > 0:\n",
        "#           print('Test Accuracy of %5s: %2d%% (%2d/%2d)' % (\n",
        "#               classes[i], 100 * class_correct[i] / class_total[i],\n",
        "#               np.sum(class_correct[i]), np.sum(class_total[i])))\n",
        "#       else:\n",
        "#           print('Test Accuracy of %5s: N/A (no training examples)' % (classes[i]))\n",
        "\n",
        "#   print('\\nTest Accuracy (Overall): {:.4f} ({}/{})'.format(\n",
        "#       100. * np.sum(class_correct) / np.sum(class_total),\n",
        "#       np.sum(class_correct), np.sum(class_total)))"
      ]
    },
    {
      "cell_type": "code",
      "execution_count": null,
      "metadata": {
        "execution": {
          "iopub.execute_input": "2022-02-08T01:16:56.341029Z",
          "iopub.status.busy": "2022-02-08T01:16:56.340154Z",
          "iopub.status.idle": "2022-02-08T01:23:57.835979Z",
          "shell.execute_reply": "2022-02-08T01:23:57.835312Z"
        },
        "papermill": {
          "duration": 421.546091,
          "end_time": "2022-02-08T01:23:57.836172",
          "exception": false,
          "start_time": "2022-02-08T01:16:56.290081",
          "status": "completed"
        },
        "scrolled": true,
        "tags": [],
        "id": "bd8fd283"
      },
      "outputs": [],
      "source": [
        "# model_ft, training_history, validation_history = train_model(model, criterion, optimizer, exp_lr_scheduler,\n",
        "#                        num_epochs=30)"
      ]
    },
    {
      "cell_type": "code",
      "execution_count": null,
      "metadata": {
        "execution": {
          "iopub.execute_input": "2022-02-08T01:28:43.806026Z",
          "iopub.status.busy": "2022-02-08T01:28:43.804832Z",
          "iopub.status.idle": "2022-02-08T01:28:48.508713Z",
          "shell.execute_reply": "2022-02-08T01:28:48.509245Z",
          "shell.execute_reply.started": "2022-02-03T00:06:01.129393Z"
        },
        "papermill": {
          "duration": 5.599214,
          "end_time": "2022-02-08T01:28:48.509441",
          "exception": false,
          "start_time": "2022-02-08T01:28:42.910227",
          "status": "completed"
        },
        "scrolled": true,
        "tags": [],
        "id": "dfc2cf05"
      },
      "outputs": [],
      "source": [
        "testing_model(my_model_at)"
      ]
    },
    {
      "cell_type": "markdown",
      "source": [
        "## Prediksi Gambar"
      ],
      "metadata": {
        "id": "DquEUQLkUtVI"
      }
    },
    {
      "cell_type": "code",
      "source": [
        "def prediksi_gambar(my_model, pred_path):\n",
        "    transform = transforms.Compose([\n",
        "      transforms.RandomHorizontalFlip(),\n",
        "      transforms.RandomVerticalFlip(),\n",
        "      transforms.Resize(256),\n",
        "      transforms.CenterCrop(224),\n",
        "      transforms.ToTensor(),\n",
        "      transforms.Normalize((0.488), (0.2172))\n",
        "    ])\n",
        "\n",
        "    prediksi_gambar = Image.open(pred_path).convert(\"RGB\")\n",
        "    prediksi_gambar = transform(prediksi_gambar)\n",
        "    prediksi_gambar = prediksi_gambar.unsqueeze(0)\n",
        "\n",
        "    my_device = torch.my_device(\"cuda\" if torch.cuda.is_available() else \"cpu\")\n",
        "    my_model = my_model.to(my_device)\n",
        "    prediksi_gambar = prediksi_gambar.to(my_device)\n",
        "\n",
        "    my_model.eval()\n",
        "    with torch.no_grad():\n",
        "        output = my_model(prediksi_gambar)\n",
        "\n",
        "    peluang = torch.nn.functional.softmax(output, dim=1)[0]\n",
        "    _, prediksi_idx = torch.max(output, 1)\n",
        "\n",
        "    prediksi_kelas = prediksi_idx.item()\n",
        "\n",
        "    print(\"Hasil Prediksi:\")\n",
        "    print(f\"Kelas: {prediksi_kelas}\")\n",
        "    print(\"Probabilitas:\")\n",
        "    for i, prob in enumerate(peluang):\n",
        "        print(f\"Kelas {i}: {prob.item()}\")\n",
        "\n",
        "    return peluang, prediksi_kelas"
      ],
      "metadata": {
        "id": "71AKVyFukGS4"
      },
      "execution_count": null,
      "outputs": []
    },
    {
      "cell_type": "code",
      "source": [
        "pred_path = '/content/Cervical-Cancer-EfficientNetV2/dataset/gambar-prediksi.jpg'"
      ],
      "metadata": {
        "id": "8LMY8eVloXO9"
      },
      "execution_count": null,
      "outputs": []
    },
    {
      "cell_type": "code",
      "source": [
        "img = Image.open(pred_path)\n",
        "plt.imshow(img)\n",
        "plt.axis('off')\n",
        "plt.show()"
      ],
      "metadata": {
        "id": "TnN70yQeogyO"
      },
      "execution_count": null,
      "outputs": []
    },
    {
      "cell_type": "code",
      "source": [
        "prediksi_gambar(my_model,pred_path)"
      ],
      "metadata": {
        "id": "ubhTClEEooFh"
      },
      "execution_count": null,
      "outputs": []
    },
    {
      "cell_type": "markdown",
      "source": [
        "## Result"
      ],
      "metadata": {
        "id": "OzT65MxLlPCw"
      }
    },
    {
      "cell_type": "code",
      "source": [
        "def plot_accuracy(train_acc, val_acc, title):\n",
        "    plt.title(title)\n",
        "    plt.plot(train_acc)\n",
        "    plt.plot(val_acc)\n",
        "    plt.ylabel('accuracy')\n",
        "    plt.xlabel('epoch')\n",
        "    plt.legend(['train_accuracy', 'validation_accuracy'], loc='best')\n",
        "    plt.show()\n",
        "\n",
        "def plot_loss(train_loss, val_loss, title):\n",
        "    plt.title(title)\n",
        "    plt.plot(train_loss)\n",
        "    plt.plot(val_loss)\n",
        "    plt.ylabel('loss')\n",
        "    plt.xlabel('epoch')\n",
        "    plt.legend(['train_loss', 'validation_loss'], loc='best')\n",
        "    plt.show()"
      ],
      "metadata": {
        "id": "h_1OaCj57hbl"
      },
      "execution_count": null,
      "outputs": []
    },
    {
      "cell_type": "code",
      "source": [
        "def cpu_to_nump(training_history, validation_history):\n",
        "  history = defaultdict(list)\n",
        "  for i in range (len(training_history['accuracy'])):\n",
        "    history['train_acc'].append(training_history['accuracy'][i].cpu().numpy())\n",
        "    history['train_loss'].append(training_history['loss'][i])\n",
        "    history['val_acc'].append(validation_history['accuracy'][i].cpu().numpy())\n",
        "    history['val_loss'].append(validation_history['loss'][i])\n",
        "  return history"
      ],
      "metadata": {
        "id": "SWiPCmTLiYoG"
      },
      "execution_count": null,
      "outputs": []
    },
    {
      "cell_type": "code",
      "source": [
        "data_history = cpu_to_nump(training_history, validation_history)"
      ],
      "metadata": {
        "id": "X_AcE1U8jvvB"
      },
      "execution_count": null,
      "outputs": []
    },
    {
      "cell_type": "code",
      "source": [
        "data_history"
      ],
      "metadata": {
        "id": "hFB2atiU189l"
      },
      "execution_count": null,
      "outputs": []
    },
    {
      "cell_type": "code",
      "source": [
        "plot_accuracy(data_history['train_acc'], data_history['val_acc'], \"Pengaruh Nilai Epoch Terhadap nilai Akurasi\")"
      ],
      "metadata": {
        "id": "2PvQrDAIB8Ho"
      },
      "execution_count": null,
      "outputs": []
    },
    {
      "cell_type": "code",
      "source": [
        "plot_loss(data_history['train_loss'], data_history['val_loss'], \"Pengaruh Nilai Epoch Terhadap nilai Loss\")"
      ],
      "metadata": {
        "id": "mu8ohXoL-Rns"
      },
      "execution_count": null,
      "outputs": []
    },
    {
      "cell_type": "code",
      "source": [
        "def conf_matrix(y_true, y_pred):\n",
        "  conf_matrix = confusion_matrix(y_true=y_true, y_pred=y_pred)\n",
        "  fig, ax = plt.subplots(figsize=(7.5, 7.5))\n",
        "  ax.matshow(conf_matrix, cmap=plt.cm.Blues, alpha=0.3)\n",
        "  for i in range(conf_matrix.shape[0]):\n",
        "      for j in range(conf_matrix.shape[1]):\n",
        "          ax.text(x=j, y=i,s=conf_matrix[i, j], va='center', ha='center', size='xx-large')\n",
        "\n",
        "  plt.xlabel('Predictions', fontsize=18)\n",
        "  plt.ylabel('Actuals', fontsize=18)\n",
        "  plt.title('Confusion Matrix', fontsize=18)\n",
        "  plt.show()"
      ],
      "metadata": {
        "id": "XmaPU9nhfTqS"
      },
      "execution_count": null,
      "outputs": []
    },
    {
      "cell_type": "code",
      "execution_count": null,
      "metadata": {
        "execution": {
          "iopub.execute_input": "2022-02-08T01:28:53.687649Z",
          "iopub.status.busy": "2022-02-08T01:28:53.685471Z",
          "iopub.status.idle": "2022-02-08T01:28:53.688490Z",
          "shell.execute_reply": "2022-02-08T01:28:53.689062Z",
          "shell.execute_reply.started": "2022-02-03T00:06:10.622567Z"
        },
        "papermill": {
          "duration": 0.911468,
          "end_time": "2022-02-08T01:28:53.689257",
          "exception": false,
          "start_time": "2022-02-08T01:28:52.777789",
          "status": "completed"
        },
        "tags": [],
        "id": "be567fac"
      },
      "outputs": [],
      "source": [
        "def cm_cr(model):\n",
        "    y_pred = []\n",
        "    y_true = []\n",
        "    model.eval()\n",
        "    for data, target in tqdm(test_loader):\n",
        "        y_true = y_true + target.tolist()\n",
        "        if torch.cuda.is_available():\n",
        "            data, target = data.cuda(), target.cuda()\n",
        "        with torch.no_grad():\n",
        "            output = model(data)\n",
        "            loss = criterion(output, target)\n",
        "            _, pred = torch.max(output, 1)\n",
        "            y_pred = y_pred + pred.tolist()\n",
        "    print(conf_matrix(y_true,y_pred))\n",
        "    print(classification_report(y_true,y_pred))"
      ]
    },
    {
      "cell_type": "code",
      "execution_count": null,
      "metadata": {
        "execution": {
          "iopub.execute_input": "2022-02-08T01:28:55.597392Z",
          "iopub.status.busy": "2022-02-08T01:28:55.596220Z",
          "iopub.status.idle": "2022-02-08T01:28:59.711344Z",
          "shell.execute_reply": "2022-02-08T01:28:59.711984Z",
          "shell.execute_reply.started": "2022-02-03T00:06:10.967139Z"
        },
        "papermill": {
          "duration": 5.118613,
          "end_time": "2022-02-08T01:28:59.712161",
          "exception": false,
          "start_time": "2022-02-08T01:28:54.593548",
          "status": "completed"
        },
        "tags": [],
        "id": "c0062360"
      },
      "outputs": [],
      "source": [
        "cm_cr(model_ft)"
      ]
    },
    {
      "cell_type": "code",
      "source": [
        "t = time.time() - start\n",
        "print('Waktu Eksekusi:',str(t.seconds)+\",\"+str(t.microseconds)[:3],'detik')"
      ],
      "metadata": {
        "id": "MIeR2bpH-qig"
      },
      "execution_count": null,
      "outputs": []
    },
    {
      "cell_type": "code",
      "source": [
        "print('Training complete in {:.0f}m {:.0f}s'.format(\n",
        "        t // 60, t % 60))"
      ],
      "metadata": {
        "id": "f6-nx9h9Qmvk"
      },
      "execution_count": null,
      "outputs": []
    }
  ]
}